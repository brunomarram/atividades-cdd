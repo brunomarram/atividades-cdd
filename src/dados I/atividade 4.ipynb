{
 "cells": [
  {
   "cell_type": "code",
   "execution_count": 28,
   "metadata": {},
   "outputs": [],
   "source": [
    "#Bruno Marra de Melo - 3029\n",
    "\n",
    "import pandas as pd\n",
    "import numpy as np\n",
    "import matplotlib.pyplot as plt\n",
    "from scipy import stats\n",
    "pd.options.display.float_format = \"{:.2f}\".format"
   ]
  },
  {
   "cell_type": "code",
   "execution_count": 29,
   "metadata": {},
   "outputs": [],
   "source": [
    "#Primeira atividade\n",
    "\n",
    "#Hipotese Nula: O ie666 tem um tempo de atraso menor do que o ia171\n",
    "#Hipotese Alternativa: O ia171 tem um tempo de atraso menor do que o ie666\n",
    "\n",
    "ia171 = pd.read_csv('/code/src/Atividades/atividade4/atraso_ia171.csv', index_col=False, header=None, squeeze=True)\n",
    "ie666 = pd.read_csv('/code/src/Atividades/atividade4/atraso_ie666.csv', index_col=False, header=None, squeeze=True)"
   ]
  },
  {
   "cell_type": "code",
   "execution_count": 30,
   "metadata": {},
   "outputs": [
    {
     "data": {
      "text/plain": [
       "count   100.00\n",
       "mean    500.23\n",
       "std      23.90\n",
       "min     424.77\n",
       "25%     483.54\n",
       "50%     503.90\n",
       "75%     516.22\n",
       "max     558.33\n",
       "Name: 0, dtype: float64"
      ]
     },
     "execution_count": 30,
     "metadata": {},
     "output_type": "execute_result"
    }
   ],
   "source": [
    "ia171.describe()"
   ]
  },
  {
   "cell_type": "code",
   "execution_count": 31,
   "metadata": {
    "scrolled": false
   },
   "outputs": [
    {
     "data": {
      "text/plain": [
       "count   100.00\n",
       "mean    186.78\n",
       "std      53.28\n",
       "min      54.96\n",
       "25%     154.04\n",
       "50%     178.89\n",
       "75%     230.26\n",
       "max     317.69\n",
       "Name: 0, dtype: float64"
      ]
     },
     "execution_count": 31,
     "metadata": {},
     "output_type": "execute_result"
    }
   ],
   "source": [
    "ie666.describe()"
   ]
  },
  {
   "cell_type": "code",
   "execution_count": 45,
   "metadata": {},
   "outputs": [
    {
     "data": {
      "image/png": "[encoded data removed]",
      "text/plain": [
       "<Figure size 432x288 with 1 Axes>"
      ]
     },
     "metadata": {
      "needs_background": "light"
     },
     "output_type": "display_data"
    }
   ],
   "source": [
    "count, bins, ignored = plt.hist(ie666, 100, normed=True, align='mid')\n",
    "plt.show()"
   ]
  },
  {
   "cell_type": "code",
   "execution_count": 46,
   "metadata": {},
   "outputs": [
    {
     "data": {
      "image/png": "[encoded data removed]",
      "text/plain": [
       "<Figure size 432x288 with 1 Axes>"
      ]
     },
     "metadata": {
      "needs_background": "light"
     },
     "output_type": "display_data"
    }
   ],
   "source": [
    "count, bins, ignored = plt.hist(ia171, 100, normed=True, align='mid')\n",
    "plt.show()"
   ]
  },
  {
   "cell_type": "code",
   "execution_count": 49,
   "metadata": {},
   "outputs": [
    {
     "name": "stdout",
     "output_type": "stream",
     "text": [
      "346.615627279445 428.52645154387386\n"
     ]
    }
   ],
   "source": [
    "maximum = ie666.mean() + (3 * ie666.std())\n",
    "minimum = ia171.mean() - (3 * ia171.std())\n",
    "\n",
    "print(maximum, minimum)\n",
    "\n",
    "#Podemos observar então que o valor máximo do iee666 não sobrepõe o mínimo do ia171 com 3 desvios padrões\n",
    "#Portanto, de forma menos rigorosa já conseguimos assumir que o iee666 possui um tempo de atraso menor."
   ]
  },
  {
   "cell_type": "code",
   "execution_count": 48,
   "metadata": {},
   "outputs": [
    {
     "name": "stdout",
     "output_type": "stream",
     "text": [
      "Ttest_indResult(statistic=-53.678568338543045, pvalue=6.0146248534390525e-120)\n"
     ]
    }
   ],
   "source": [
    "#Para garantirmos com mais assertividade que o ie666 tem um tempo de atraso menor, podemos então utilizar\n",
    "#um teste t-student para calcularmos o valor-p\n",
    "print(stats.ttest_ind(ie666,ia171))\n",
    "\n",
    "# Como o valor p está muito acima de 1, logo podemos confirmar a hipótese nula"
   ]
  },
  {
   "cell_type": "code",
   "execution_count": null,
   "metadata": {},
   "outputs": [],
   "source": [
    "#Segunda atividade\n",
    "\n",
    "#Hipotese Nula: O bitcomb tem um tempo de atraso menor do que o combinar\n",
    "#Hipotese Alternativa: O combinar tem um tempo de atraso menor do que o bitcomb\n",
    "\n",
    "bitcomb = pd.read_csv('/code/src/Atividades/atividade4/tempo_bitcomb.csv', index_col=False, header=None, squeeze=True)\n",
    "combinar = pd.read_csv('/code/src/Atividades/atividade4/tempo_combinar.csv', index_col=False, header=None, squeeze=True)"
   ]
  },
  {
   "cell_type": "code",
   "execution_count": 50,
   "metadata": {},
   "outputs": [
    {
     "data": {
      "text/plain": [
       "count   100.00\n",
       "mean      8.74\n",
       "std       3.60\n",
       "min      -0.07\n",
       "25%       6.10\n",
       "50%       8.64\n",
       "75%      11.38\n",
       "max      17.20\n",
       "Name: 0, dtype: float64"
      ]
     },
     "execution_count": 50,
     "metadata": {},
     "output_type": "execute_result"
    }
   ],
   "source": [
    "bitcomb.describe()"
   ]
  },
  {
   "cell_type": "code",
   "execution_count": 51,
   "metadata": {},
   "outputs": [
    {
     "data": {
      "text/plain": [
       "count   100.00\n",
       "mean      9.54\n",
       "std       3.96\n",
       "min      -2.15\n",
       "25%       7.68\n",
       "50%       9.25\n",
       "75%      12.41\n",
       "max      18.40\n",
       "Name: 0, dtype: float64"
      ]
     },
     "execution_count": 51,
     "metadata": {},
     "output_type": "execute_result"
    }
   ],
   "source": [
    "combinar.describe()"
   ]
  },
  {
   "cell_type": "code",
   "execution_count": 52,
   "metadata": {},
   "outputs": [
    {
     "data": {
      "image/png": "[encoded data removed]",
      "text/plain": [
       "<Figure size 432x288 with 1 Axes>"
      ]
     },
     "metadata": {
      "needs_background": "light"
     },
     "output_type": "display_data"
    }
   ],
   "source": [
    "count, bins, ignored = plt.hist(bitcomb, 100, normed=True, align='mid')\n",
    "plt.show()"
   ]
  },
  {
   "cell_type": "code",
   "execution_count": 53,
   "metadata": {},
   "outputs": [
    {
     "data": {
      "image/png": "[encoded data removed]",
      "text/plain": [
       "<Figure size 432x288 with 1 Axes>"
      ]
     },
     "metadata": {
      "needs_background": "light"
     },
     "output_type": "display_data"
    }
   ],
   "source": [
    "count, bins, ignored = plt.hist(combinar, 100, normed=True, align='mid')\n",
    "plt.show()"
   ]
  },
  {
   "cell_type": "code",
   "execution_count": 58,
   "metadata": {},
   "outputs": [
    {
     "name": "stdout",
     "output_type": "stream",
     "text": [
      "17.453425344877786 1.54301159063961\n"
     ]
    }
   ],
   "source": [
    "maximum = combinar.mean() + (2 * combinar.std())\n",
    "minimum = bitcomb.mean() - (2 * bitcomb.std())\n",
    "\n",
    "print(maximum, minimum)\n",
    "\n",
    "#Portanto, nesse caso somente com as diferenças ainda não é possível afirmar qual dos dois escolher. Porém, podemos\n",
    "#usar a mesma estratégia do teste t anterior e calcular o valor p para as amostras"
   ]
  },
  {
   "cell_type": "code",
   "execution_count": 60,
   "metadata": {},
   "outputs": [
    {
     "name": "stdout",
     "output_type": "stream",
     "text": [
      "Ttest_indResult(statistic=1.4906945721074145, pvalue=0.13763304867237086)\n"
     ]
    }
   ],
   "source": [
    "#Para garantirmos com mais assertividade que o ie666 tem um tempo de atraso menor, podemos então utilizar\n",
    "#um teste t-student para calcularmos o valor-p\n",
    "print(stats.ttest_ind(combinar,bitcomb))\n",
    "\n",
    "# Como o valor p está muito abaixo de 1, logo podemos considerar a hipótese alternativa"
   ]
  },
  {
   "cell_type": "code",
   "execution_count": null,
   "metadata": {},
   "outputs": [],
   "source": []
  }
 ],
 "metadata": {
  "kernelspec": {
   "display_name": "Python 3",
   "language": "python",
   "name": "python3"
  },
  "language_info": {
   "codemirror_mode": {
    "name": "ipython",
    "version": 3
   },
   "file_extension": ".py",
   "mimetype": "text/x-python",
   "name": "python",
   "nbconvert_exporter": "python",
   "pygments_lexer": "ipython3",
   "version": "3.7.2"
  }
 },
 "nbformat": 4,
 "nbformat_minor": 2
}
