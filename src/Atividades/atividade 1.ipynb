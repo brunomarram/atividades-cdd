{
 "cells": [
  {
   "cell_type": "code",
   "execution_count": 169,
   "metadata": {},
   "outputs": [],
   "source": [
    "import pandas as pd\n",
    "import numpy as np\n",
    "import random\n",
    "import math"
   ]
  },
  {
   "cell_type": "code",
   "execution_count": 170,
   "metadata": {},
   "outputs": [
    {
     "name": "stdout",
     "output_type": "stream",
     "text": [
      "a) maior: 997 | menor: -986\n"
     ]
    }
   ],
   "source": [
    "numbers = random.sample(range(-1000, 1000), 500)\n",
    "series = pd.Series(numbers)\n",
    "\n",
    "print(\"a) maior: \" + str(series.max()) + \" | menor: \" + str(series.min()))"
   ]
  },
  {
   "cell_type": "code",
   "execution_count": 171,
   "metadata": {},
   "outputs": [],
   "source": [
    "def valoresPositivos(series):\n",
    "    return series[series >= 0]"
   ]
  },
  {
   "cell_type": "code",
   "execution_count": 172,
   "metadata": {},
   "outputs": [
    {
     "name": "stdout",
     "output_type": "stream",
     "text": [
      "b) Valores positivos:\n",
      "0      992\n",
      "1      851\n",
      "2      270\n",
      "4      546\n",
      "5      749\n",
      "6      893\n",
      "8      413\n",
      "9      909\n",
      "10     812\n",
      "11     713\n",
      "13     930\n",
      "14      35\n",
      "15     624\n",
      "16     197\n",
      "21     561\n",
      "22     605\n",
      "23     963\n",
      "25      94\n",
      "26     946\n",
      "31     636\n",
      "32     454\n",
      "33     162\n",
      "37     488\n",
      "38     738\n",
      "40     612\n",
      "42     643\n",
      "43     165\n",
      "44     641\n",
      "45     900\n",
      "47     157\n",
      "      ... \n",
      "442    858\n",
      "443     82\n",
      "444    727\n",
      "445    762\n",
      "447    230\n",
      "448    954\n",
      "450    937\n",
      "451     67\n",
      "454    938\n",
      "455    972\n",
      "457    833\n",
      "458     79\n",
      "459    277\n",
      "461    539\n",
      "463     29\n",
      "464    257\n",
      "466    140\n",
      "467    220\n",
      "469    399\n",
      "473    451\n",
      "474      2\n",
      "481    389\n",
      "483     31\n",
      "486    298\n",
      "487    701\n",
      "492     47\n",
      "493    352\n",
      "495    355\n",
      "497    222\n",
      "499    518\n",
      "Length: 259, dtype: int64\n"
     ]
    }
   ],
   "source": [
    "print(\"b) Valores positivos:\")\n",
    "print(valoresPositivos(series))"
   ]
  },
  {
   "cell_type": "code",
   "execution_count": 173,
   "metadata": {},
   "outputs": [],
   "source": [
    "def valoresImpares(series):\n",
    "    return series[series % 2 != 0]"
   ]
  },
  {
   "cell_type": "code",
   "execution_count": 174,
   "metadata": {},
   "outputs": [
    {
     "name": "stdout",
     "output_type": "stream",
     "text": [
      "c) Valores ímpares:\n",
      "1      851\n",
      "5      749\n",
      "6      893\n",
      "8      413\n",
      "9      909\n",
      "11     713\n",
      "14      35\n",
      "16     197\n",
      "17    -499\n",
      "19    -877\n",
      "20    -149\n",
      "21     561\n",
      "22     605\n",
      "23     963\n",
      "27    -793\n",
      "28    -969\n",
      "29    -547\n",
      "34    -865\n",
      "35    -459\n",
      "36    -491\n",
      "41    -641\n",
      "42     643\n",
      "43     165\n",
      "44     641\n",
      "46    -791\n",
      "47     157\n",
      "51     845\n",
      "52    -713\n",
      "58     407\n",
      "62     677\n",
      "      ... \n",
      "433    601\n",
      "434   -739\n",
      "436   -259\n",
      "438   -169\n",
      "444    727\n",
      "450    937\n",
      "451     67\n",
      "453   -637\n",
      "456   -223\n",
      "457    833\n",
      "458     79\n",
      "459    277\n",
      "461    539\n",
      "463     29\n",
      "464    257\n",
      "465   -605\n",
      "469    399\n",
      "473    451\n",
      "475   -757\n",
      "476   -309\n",
      "478   -669\n",
      "480   -945\n",
      "481    389\n",
      "482   -153\n",
      "483     31\n",
      "485   -635\n",
      "487    701\n",
      "492     47\n",
      "495    355\n",
      "498   -133\n",
      "Length: 244, dtype: int64\n"
     ]
    }
   ],
   "source": [
    "print(\"c) Valores ímpares:\")\n",
    "print(valoresImpares(series))"
   ]
  },
  {
   "cell_type": "code",
   "execution_count": 175,
   "metadata": {},
   "outputs": [],
   "source": [
    "def valores50a100(series):\n",
    "    return series[50:101]"
   ]
  },
  {
   "cell_type": "code",
   "execution_count": 176,
   "metadata": {},
   "outputs": [
    {
     "name": "stdout",
     "output_type": "stream",
     "text": [
      "d) Valores das posições 50 a 100, inclusive:\n",
      "50     964\n",
      "51     845\n",
      "52    -713\n",
      "53     758\n",
      "54     870\n",
      "55    -966\n",
      "56     700\n",
      "57      50\n",
      "58     407\n",
      "59      -4\n",
      "60     864\n",
      "61     166\n",
      "62     677\n",
      "63    -982\n",
      "64    -885\n",
      "65     478\n",
      "66       3\n",
      "67    -747\n",
      "68    -818\n",
      "69    -561\n",
      "70    -242\n",
      "71     874\n",
      "72    -766\n",
      "73    -410\n",
      "74     904\n",
      "75     887\n",
      "76     586\n",
      "77     232\n",
      "78     640\n",
      "79     949\n",
      "80     226\n",
      "81    -552\n",
      "82    -903\n",
      "83     974\n",
      "84     662\n",
      "85     628\n",
      "86    -152\n",
      "87     902\n",
      "88     286\n",
      "89     956\n",
      "90     136\n",
      "91     192\n",
      "92     285\n",
      "93     188\n",
      "94    -154\n",
      "95    -479\n",
      "96      86\n",
      "97    -155\n",
      "98      38\n",
      "99     530\n",
      "100   -803\n",
      "dtype: int64\n"
     ]
    }
   ],
   "source": [
    "print(\"d) Valores das posições 50 a 100, inclusive:\")\n",
    "print(valores50a100(series))"
   ]
  },
  {
   "cell_type": "code",
   "execution_count": 177,
   "metadata": {},
   "outputs": [],
   "source": [
    "def quantidadePares(series):\n",
    "    return series[series % 2 == 0].size"
   ]
  },
  {
   "cell_type": "code",
   "execution_count": 178,
   "metadata": {},
   "outputs": [
    {
     "name": "stdout",
     "output_type": "stream",
     "text": [
      "e) A quantidade de valores pares:\n",
      "256\n"
     ]
    }
   ],
   "source": [
    "print(\"e) A quantidade de valores pares:\")\n",
    "print(quantidadePares(series))"
   ]
  },
  {
   "cell_type": "code",
   "execution_count": 179,
   "metadata": {},
   "outputs": [],
   "source": [
    "def maioresQue500(series):\n",
    "    return series[series > 500].size"
   ]
  },
  {
   "cell_type": "code",
   "execution_count": 180,
   "metadata": {},
   "outputs": [
    {
     "name": "stdout",
     "output_type": "stream",
     "text": [
      "f) A quantidade de valores maiores que 500:\n",
      "127\n"
     ]
    }
   ],
   "source": [
    "print(\"f) A quantidade de valores maiores que 500:\")\n",
    "print(maioresQue500(series))"
   ]
  },
  {
   "cell_type": "code",
   "execution_count": 181,
   "metadata": {},
   "outputs": [],
   "source": [
    "def maior500menor700(series):\n",
    "    return series[(series > 500) & (series < 700)]"
   ]
  },
  {
   "cell_type": "code",
   "execution_count": 182,
   "metadata": {},
   "outputs": [
    {
     "name": "stdout",
     "output_type": "stream",
     "text": [
      "g) Os valores maiores que 500 e menores que 700:\n",
      "4      546\n",
      "15     624\n",
      "21     561\n",
      "22     605\n",
      "31     636\n",
      "40     612\n",
      "42     643\n",
      "44     641\n",
      "48     620\n",
      "62     677\n",
      "76     586\n",
      "78     640\n",
      "84     662\n",
      "85     628\n",
      "99     530\n",
      "106    599\n",
      "124    678\n",
      "134    618\n",
      "162    512\n",
      "182    562\n",
      "191    626\n",
      "194    666\n",
      "215    536\n",
      "255    604\n",
      "274    528\n",
      "286    520\n",
      "287    657\n",
      "293    513\n",
      "302    630\n",
      "325    519\n",
      "329    585\n",
      "343    615\n",
      "353    683\n",
      "360    589\n",
      "376    669\n",
      "392    594\n",
      "399    511\n",
      "429    590\n",
      "433    601\n",
      "461    539\n",
      "499    518\n",
      "dtype: int64\n"
     ]
    }
   ],
   "source": [
    "print(\"g) Os valores maiores que 500 e menores que 700:\")\n",
    "print(maior500menor700(series))"
   ]
  },
  {
   "cell_type": "code",
   "execution_count": 183,
   "metadata": {},
   "outputs": [],
   "source": [
    "def raiz(series):\n",
    "    return pow(series, 0.5)"
   ]
  },
  {
   "cell_type": "code",
   "execution_count": 185,
   "metadata": {},
   "outputs": [
    {
     "name": "stdout",
     "output_type": "stream",
     "text": [
      "h) A raiz quadrada de todos os valores\n",
      "0      31.496031\n",
      "1      29.171904\n",
      "2      16.431677\n",
      "3            NaN\n",
      "4      23.366643\n",
      "5      27.367864\n",
      "6      29.883106\n",
      "7            NaN\n",
      "8      20.322401\n",
      "9      30.149627\n",
      "10     28.495614\n",
      "11     26.702060\n",
      "12           NaN\n",
      "13     30.495901\n",
      "14      5.916080\n",
      "15     24.979992\n",
      "16     14.035669\n",
      "17           NaN\n",
      "18           NaN\n",
      "19           NaN\n",
      "20           NaN\n",
      "21     23.685439\n",
      "22     24.596748\n",
      "23     31.032241\n",
      "24           NaN\n",
      "25      9.695360\n",
      "26     30.757113\n",
      "27           NaN\n",
      "28           NaN\n",
      "29           NaN\n",
      "         ...    \n",
      "470          NaN\n",
      "471          NaN\n",
      "472          NaN\n",
      "473    21.236761\n",
      "474     1.414214\n",
      "475          NaN\n",
      "476          NaN\n",
      "477          NaN\n",
      "478          NaN\n",
      "479          NaN\n",
      "480          NaN\n",
      "481    19.723083\n",
      "482          NaN\n",
      "483     5.567764\n",
      "484          NaN\n",
      "485          NaN\n",
      "486    17.262677\n",
      "487    26.476405\n",
      "488          NaN\n",
      "489          NaN\n",
      "490          NaN\n",
      "491          NaN\n",
      "492     6.855655\n",
      "493    18.761663\n",
      "494          NaN\n",
      "495    18.841444\n",
      "496          NaN\n",
      "497    14.899664\n",
      "498          NaN\n",
      "499    22.759613\n",
      "Length: 500, dtype: float64\n"
     ]
    }
   ],
   "source": [
    "print(\"h) A raiz quadrada de todos os valores\")\n",
    "print(raiz(series))"
   ]
  },
  {
   "cell_type": "code",
   "execution_count": null,
   "metadata": {},
   "outputs": [],
   "source": []
  }
 ],
 "metadata": {
  "kernelspec": {
   "display_name": "Python 3",
   "language": "python",
   "name": "python3"
  },
  "language_info": {
   "codemirror_mode": {
    "name": "ipython",
    "version": 3
   },
   "file_extension": ".py",
   "mimetype": "text/x-python",
   "name": "python",
   "nbconvert_exporter": "python",
   "pygments_lexer": "ipython3",
   "version": "3.7.2"
  }
 },
 "nbformat": 4,
 "nbformat_minor": 2
}
