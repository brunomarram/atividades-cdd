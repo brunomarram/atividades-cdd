{
 "cells": [
  {
   "cell_type": "code",
   "execution_count": 156,
   "metadata": {},
   "outputs": [],
   "source": [
    "#Bruno Marra de Melo - 3029\n",
    "\n",
    "import pandas as pd\n",
    "import numpy as np\n",
    "import random\n",
    "import math\n",
    "from scipy import stats"
   ]
  },
  {
   "cell_type": "code",
   "execution_count": 157,
   "metadata": {},
   "outputs": [],
   "source": [
    "series = pd.read_csv('/code/src/Atividades/atividade2/series.csv', squeeze=True)\n",
    "homens = pd.read_csv('/code/src/Atividades/atividade2/altura_homens.csv', squeeze=True)\n",
    "mulheres = pd.read_csv('/code/src/Atividades/atividade2/altura_mulheres.csv', squeeze=True)"
   ]
  },
  {
   "cell_type": "code",
   "execution_count": 158,
   "metadata": {},
   "outputs": [],
   "source": [
    "#printResponseCentimeters\n",
    "def pRc(number):\n",
    "    return str(round(number, 2)) + \"cm\"\n",
    "\n",
    "#printResponsePercent\n",
    "def pRp(number):\n",
    "    return str(round(number, 2)) + \"%\""
   ]
  },
  {
   "cell_type": "code",
   "execution_count": 159,
   "metadata": {},
   "outputs": [
    {
     "name": "stdout",
     "output_type": "stream",
     "text": [
      "Menor altura dos Homens:120.05cm\n",
      "Maior altura dos Homens:221.0cm\n",
      "---------------\n",
      "Menor altura das Mulheres:132.82cm\n",
      "Maior altura das Mulheres:190.3cm\n"
     ]
    }
   ],
   "source": [
    "#a) Qual a altura mínima e máxima dos homens e das mulheres dessas amostras?\n",
    "\n",
    "print(\"Menor altura dos Homens:\"+pRc(homens.min()))\n",
    "print(\"Maior altura dos Homens:\"+pRc(homens.max()))\n",
    "print(\"---------------\")\n",
    "print(\"Menor altura das Mulheres:\"+pRc(mulheres.min()))\n",
    "print(\"Maior altura das Mulheres:\"+pRc(mulheres.max()))"
   ]
  },
  {
   "cell_type": "code",
   "execution_count": 160,
   "metadata": {},
   "outputs": [
    {
     "name": "stdout",
     "output_type": "stream",
     "text": [
      "Média de altura dos Homens: 175.05cm\n",
      "Média de altura das Mulheres: 160.11cm\n",
      "---------------\n",
      "Mediana de altura dos Homens: 174.57cm\n",
      "Mediana de altura das Mulheres: 160.05cm\n"
     ]
    }
   ],
   "source": [
    "#b) Qual a média de altura dos homens e das mulheres? E qual a mediana dessas alturas?\n",
    "\n",
    "print(\"Média de altura dos Homens: \"+pRc(homens.mean()))\n",
    "print(\"Média de altura das Mulheres: \"+pRc(mulheres.mean()))\n",
    "print(\"---------------\")\n",
    "print(\"Mediana de altura dos Homens: \"+pRc(homens.median()))\n",
    "print(\"Mediana de altura das Mulheres: \"+pRc(mulheres.median()))"
   ]
  },
  {
   "cell_type": "code",
   "execution_count": 161,
   "metadata": {},
   "outputs": [
    {
     "name": "stdout",
     "output_type": "stream",
     "text": [
      "Desvio padrão altura dos Homens: 15.33cm\n",
      "Desvio padrão altura das Mulheres: 9.71cm\n"
     ]
    }
   ],
   "source": [
    "#c) Qual o desvio padrão da altura dos homens e das mulheres?\n",
    "\n",
    "print(\"Desvio padrão altura dos Homens: \"+pRc(homens.std()))\n",
    "print(\"Desvio padrão altura das Mulheres: \"+pRc(mulheres.std()))"
   ]
  },
  {
   "cell_type": "code",
   "execution_count": 162,
   "metadata": {},
   "outputs": [
    {
     "name": "stdout",
     "output_type": "stream",
     "text": [
      "Percentual de homens com altura menor que 160cm: 15.62%\n"
     ]
    }
   ],
   "source": [
    "#d) Qual o percentual de homens com altura menor que 160cm?\n",
    "\n",
    "count = len(homens[homens<160])\n",
    "percent = count * 100 / len(homens)\n",
    "\n",
    "print(\"Percentual de homens com altura menor que 160cm: \"+pRp(percent))"
   ]
  },
  {
   "cell_type": "code",
   "execution_count": 163,
   "metadata": {},
   "outputs": [
    {
     "name": "stdout",
     "output_type": "stream",
     "text": [
      "Percentual de mulheres com altura maior que 180cm: 2.4%\n"
     ]
    }
   ],
   "source": [
    "#e) Qual o percentual de mulheres com altura maior que 180cm?\n",
    "\n",
    "count = len(mulheres[mulheres>180])\n",
    "percent = count * 100 / len(mulheres)\n",
    "\n",
    "print(\"Percentual de mulheres com altura maior que 180cm: \"+pRp(percent))"
   ]
  },
  {
   "cell_type": "code",
   "execution_count": 164,
   "metadata": {},
   "outputs": [
    {
     "name": "stdout",
     "output_type": "stream",
     "text": [
      "Percentil: 73.97%\n"
     ]
    }
   ],
   "source": [
    "#f) Um homem com altura 185cm está em qual percentil? (pesquise sobre a função percentileofscore do pacote scipy)\n",
    "\n",
    "percentil = stats.percentileofscore(homens, 185)\n",
    "\n",
    "print(\"Percentil: \"+pRp(percentil))"
   ]
  },
  {
   "cell_type": "code",
   "execution_count": 165,
   "metadata": {},
   "outputs": [
    {
     "name": "stdout",
     "output_type": "stream",
     "text": [
      "Percentil: 14.61%\n"
     ]
    }
   ],
   "source": [
    "#g) Uma mulher com altura 150cm está em qual percentil?\n",
    "\n",
    "percentil = stats.percentileofscore(mulheres, 150)\n",
    "\n",
    "print(\"Percentil: \"+pRp(percentil))"
   ]
  },
  {
   "cell_type": "code",
   "execution_count": 166,
   "metadata": {},
   "outputs": [
    {
     "name": "stdout",
     "output_type": "stream",
     "text": [
      "As 3 alturas mais frequentes são: \n",
      "165.43 3\n",
      "185.74 3\n",
      "169.17 3\n"
     ]
    }
   ],
   "source": [
    "#h) Quais as três alturas de homens que são as mais frequentes? Quantos homens possuem essas alturas?\n",
    "\n",
    "frequency = homens.value_counts()\n",
    "index = frequency.index\n",
    "\n",
    "print(\"As 3 alturas mais frequentes são: \")\n",
    "print(index[0], frequency[index[0]])\n",
    "print(index[1], frequency[index[1]])\n",
    "print(index[2], frequency[index[2]])"
   ]
  },
  {
   "cell_type": "code",
   "execution_count": 185,
   "metadata": {
    "scrolled": true
   },
   "outputs": [
    {
     "name": "stdout",
     "output_type": "stream",
     "text": [
      "As 3 alturas mais frequentes são: \n",
      "163.27 3\n",
      "163.36 3\n",
      "152.57 3\n"
     ]
    }
   ],
   "source": [
    "#i) Quais as três alturas de mulheres que são as mais frequentes? Quantas mulheres possuem essas alturas?\n",
    "\n",
    "frequency = mulheres.value_counts()\n",
    "index = frequency.index\n",
    "\n",
    "print(\"As 3 alturas mais frequentes são: \")\n",
    "print(index[0], frequency[index[0]])\n",
    "print(index[1], frequency[index[1]])\n",
    "print(index[2], frequency[index[2]])"
   ]
  },
  {
   "cell_type": "code",
   "execution_count": 193,
   "metadata": {},
   "outputs": [],
   "source": [
    "def stdDistance(mean, std, size):\n",
    "    count = 0\n",
    "    if(size > mean):\n",
    "        while(mean < size):\n",
    "            mean += std\n",
    "            count+=1\n",
    "    else:\n",
    "        while(mean > size):\n",
    "            mean -= std\n",
    "            count+=1\n",
    "    return str(count)"
   ]
  },
  {
   "cell_type": "code",
   "execution_count": 196,
   "metadata": {},
   "outputs": [
    {
     "name": "stdout",
     "output_type": "stream",
     "text": [
      "Ele está a 1 desvios padrões de distância\n"
     ]
    }
   ],
   "source": [
    "#j) Um homem com altura 185cm está distante quantos desvios padrões da média dos homens?\n",
    "\n",
    "mean = homens.mean()\n",
    "std = homens.std()\n",
    "distance = stdDistance(mean, std, 185)\n",
    "\n",
    "print(\"Ele está a \" + distance + \" desvios padrões de distância\")"
   ]
  },
  {
   "cell_type": "code",
   "execution_count": 200,
   "metadata": {},
   "outputs": [
    {
     "name": "stdout",
     "output_type": "stream",
     "text": [
      "Ele está a 2 desvios padrões de distância\n"
     ]
    }
   ],
   "source": [
    "#k) Um homem com altura 145cm está distante quantos desvios padrões da média dos homens?\n",
    "\n",
    "mean = homens.mean()\n",
    "std = homens.std()\n",
    "distance = stdDistance(mean, std, 145)\n",
    "\n",
    "print(\"Ele está a \" + distance + \" desvios padrões de distância\")"
   ]
  },
  {
   "cell_type": "code",
   "execution_count": 201,
   "metadata": {},
   "outputs": [
    {
     "name": "stdout",
     "output_type": "stream",
     "text": [
      "Ele está a 3 desvios padrões de distância\n"
     ]
    }
   ],
   "source": [
    "#l) Uma mulher com altura 185cm está distante quantos desvios padrões da média das mulheres?\n",
    "\n",
    "mean = mulheres.mean()\n",
    "std = mulheres.std()\n",
    "distance = stdDistance(mean, std, 185)\n",
    "\n",
    "print(\"Ele está a \" + distance + \" desvios padrões de distância\")"
   ]
  },
  {
   "cell_type": "code",
   "execution_count": 202,
   "metadata": {},
   "outputs": [
    {
     "name": "stdout",
     "output_type": "stream",
     "text": [
      "Ele está a 2 desvios padrões de distância\n"
     ]
    }
   ],
   "source": [
    "#m) Uma mulher com altura 145cm está distante quantos desvios padrões da média das mulheres?\n",
    "\n",
    "mean = mulheres.mean()\n",
    "std = mulheres.std()\n",
    "distance = stdDistance(mean, std, 145)\n",
    "\n",
    "print(\"Ele está a \" + distance + \" desvios padrões de distância\")"
   ]
  },
  {
   "cell_type": "code",
   "execution_count": 211,
   "metadata": {},
   "outputs": [
    {
     "name": "stdout",
     "output_type": "stream",
     "text": [
      "Como a distância de desvios dos homem é de 2 e das mulheres de 2\n",
      "Considerando ainda que o percentual de mulheres menores que 160cm é de 49.45%\n",
      "E o de homens é de 15.62%\n",
      "Provavelmente essa pessoa é uma mulher\n"
     ]
    }
   ],
   "source": [
    "#n) É possível afirmar com determinado grau de confiança que uma pessoa com altura 150cm é um homem ou uma mulher?\n",
    "\n",
    "mean = mulheres.mean()\n",
    "std = mulheres.std()\n",
    "distanceWoman = stdDistance(mean, std, 150)\n",
    "\n",
    "mean = homens.mean()\n",
    "std = homens.std()\n",
    "distanceMen = stdDistance(mean, std, 150)\n",
    "\n",
    "count = len(homens[homens<160])\n",
    "menPercent = count * 100 / len(homens)\n",
    "\n",
    "count = len(mulheres[mulheres<160])\n",
    "womanPercent = count * 100 / len(mulheres)\n",
    "\n",
    "print(\"Como a distância de desvios dos homem é de \" + distanceMen + \" e das mulheres de \"+ distanceWoman)\n",
    "print(\"Considerando ainda que o percentual de mulheres menores que 160cm é de \"+pRp(womanPercent))\n",
    "print(\"E o de homens é de \"+pRp(menPercent))\n",
    "print(\"Provavelmente essa pessoa é uma mulher\")"
   ]
  },
  {
   "cell_type": "code",
   "execution_count": 212,
   "metadata": {},
   "outputs": [
    {
     "name": "stdout",
     "output_type": "stream",
     "text": [
      "Como a distância de desvios dos homem é de 1 e das mulheres de 4\n",
      "Considerando ainda que o percentual de mulheres maiores que 180cm é de 2.4%\n",
      "E o de homens é de 37.34%\n",
      "Provavelmente essa pessoa é um homem\n"
     ]
    }
   ],
   "source": [
    "#n) E uma pessoa com altura 190cm?\n",
    "\n",
    "mean = mulheres.mean()\n",
    "std = mulheres.std()\n",
    "distanceWoman = stdDistance(mean, std, 190)\n",
    "\n",
    "mean = homens.mean()\n",
    "std = homens.std()\n",
    "distanceMen = stdDistance(mean, std, 190)\n",
    "\n",
    "count = len(homens[homens>180])\n",
    "menPercent = count * 100 / len(homens)\n",
    "\n",
    "count = len(mulheres[mulheres>180])\n",
    "womanPercent = count * 100 / len(mulheres)\n",
    "\n",
    "print(\"Como a distância de desvios dos homem é de \" + distanceMen + \" e das mulheres de \"+ distanceWoman)\n",
    "print(\"Considerando ainda que o percentual de mulheres maiores que 180cm é de \"+pRp(womanPercent))\n",
    "print(\"E o de homens é de \"+pRp(menPercent))\n",
    "print(\"Provavelmente essa pessoa é um homem\")"
   ]
  },
  {
   "cell_type": "code",
   "execution_count": 214,
   "metadata": {},
   "outputs": [
    {
     "name": "stdout",
     "output_type": "stream",
     "text": [
      "Como a distância de desvios dos homem é de 1 e das mulheres de 1\n",
      "Considerando ainda que o percentual de mulheres maiores que 160cm é de 50.55%\n",
      "E o de homens é de 84.38%\n",
      "Fica bastante difícil afirmar se é um homem ou uma mulher somente com esses dados\n"
     ]
    }
   ],
   "source": [
    "#p) E uma pessoa com altura 165cm?\n",
    "\n",
    "mean = mulheres.mean()\n",
    "std = mulheres.std()\n",
    "distanceWoman = stdDistance(mean, std, 165)\n",
    "\n",
    "mean = homens.mean()\n",
    "std = homens.std()\n",
    "distanceMen = stdDistance(mean, std, 165)\n",
    "\n",
    "count = len(homens[homens>160])\n",
    "menPercent = count * 100 / len(homens)\n",
    "\n",
    "count = len(mulheres[mulheres>160])\n",
    "womanPercent = count * 100 / len(mulheres)\n",
    "\n",
    "print(\"Como a distância de desvios dos homem é de \" + distanceMen + \" e das mulheres de \"+ distanceWoman)\n",
    "print(\"Considerando ainda que o percentual de mulheres maiores que 160cm é de \"+pRp(womanPercent))\n",
    "print(\"E o de homens é de \"+pRp(menPercent))\n",
    "print(\"Fica bastante difícil afirmar se é um homem ou uma mulher somente com esses dados\")"
   ]
  },
  {
   "cell_type": "code",
   "execution_count": 219,
   "metadata": {},
   "outputs": [
    {
     "name": "stdout",
     "output_type": "stream",
     "text": [
      "Mulheres:\n",
      "160.1146846846847 160.05\n",
      "0    149.26\n",
      "1    152.57\n",
      "2    155.64\n",
      "3    156.37\n",
      "4    157.62\n",
      "5    163.27\n",
      "6    163.36\n",
      "7    164.17\n",
      "8    165.12\n",
      "dtype: float64\n",
      "-----------\n",
      "Homens:\n",
      "175.04870870870872 174.57\n",
      "0    165.43\n",
      "1    169.17\n",
      "2    169.97\n",
      "3    174.38\n",
      "4    180.70\n",
      "5    183.22\n",
      "6    185.74\n",
      "dtype: float64\n",
      "-----------\n",
      "Portanto, como moda mediana e média seguem padrões próximos, podemos dizer que sim, seguem uma distribuição normal\n"
     ]
    }
   ],
   "source": [
    "#q) As alturas dos homens e mulheres seguem uma distribuição Normal?\n",
    "print(\"Mulheres:\")\n",
    "print(mulheres.mean(), mulheres.median())\n",
    "print(mulheres.mode())\n",
    "print(\"-----------\")\n",
    "print(\"Homens:\")\n",
    "print(homens.mean(), homens.median())\n",
    "print(homens.mode())\n",
    "print(\"-----------\")\n",
    "print(\"Portanto, como moda mediana e média seguem padrões próximos, podemos dizer que sim, seguem uma distribuição normal\")"
   ]
  },
  {
   "cell_type": "code",
   "execution_count": 220,
   "metadata": {},
   "outputs": [
    {
     "data": {
      "text/plain": [
       "count    999.000000\n",
       "mean     175.048709\n",
       "std       15.329540\n",
       "min      120.050000\n",
       "25%      164.800000\n",
       "50%      174.570000\n",
       "75%      185.590000\n",
       "max      221.000000\n",
       "Name: 185.24, dtype: float64"
      ]
     },
     "execution_count": 220,
     "metadata": {},
     "output_type": "execute_result"
    }
   ],
   "source": [
    "#2. Para que serve a função “describe()” de uma Series?\n",
    "homens.describe()\n",
    "\n",
    "#Como podemos ver a função describe mostra um resumo, com alguns valores estatísticos relevantes sobre uma \n",
    "#series, tais como:\n",
    "\n",
    "#quantidade de registros (count)\n",
    "#média (std)\n",
    "#desvio padrão (std)\n",
    "#menor valor (min)\n",
    "#maior valor (max)\n",
    "\n",
    "#bem como mostra cada um dos quartis (25%, 50%, 75%)"
   ]
  },
  {
   "cell_type": "code",
   "execution_count": 225,
   "metadata": {},
   "outputs": [
    {
     "name": "stdout",
     "output_type": "stream",
     "text": [
      "909\n"
     ]
    }
   ],
   "source": [
    "#3. Para que serve a função “unique()” de uma Series?\n",
    "\n",
    "print(len(homens.unique()))\n",
    "\n",
    "#Ele retorna uma lista com os valores únicos (sem repetição) de uma series. No exemplo acima\n",
    "#estou imprimindo a quantidade de itens únicos existentes na series."
   ]
  },
  {
   "cell_type": "code",
   "execution_count": null,
   "metadata": {},
   "outputs": [],
   "source": []
  }
 ],
 "metadata": {
  "kernelspec": {
   "display_name": "Python 3",
   "language": "python",
   "name": "python3"
  },
  "language_info": {
   "codemirror_mode": {
    "name": "ipython",
    "version": 3
   },
   "file_extension": ".py",
   "mimetype": "text/x-python",
   "name": "python",
   "nbconvert_exporter": "python",
   "pygments_lexer": "ipython3",
   "version": "3.7.2"
  }
 },
 "nbformat": 4,
 "nbformat_minor": 2
}
