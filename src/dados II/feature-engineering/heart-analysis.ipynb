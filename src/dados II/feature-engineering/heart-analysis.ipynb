{
 "metadata": {
  "language_info": {
   "codemirror_mode": {
    "name": "ipython",
    "version": 3
   },
   "file_extension": ".py",
   "mimetype": "text/x-python",
   "name": "python",
   "nbconvert_exporter": "python",
   "pygments_lexer": "ipython3",
   "version": "3.8.6-final"
  },
  "orig_nbformat": 2,
  "kernelspec": {
   "name": "python38664bit4f08fa7a7f93408897623499d6c2a428",
   "display_name": "Python 3.8.6 64-bit",
   "language": "python"
  }
 },
 "nbformat": 4,
 "nbformat_minor": 2,
 "cells": [
  {
   "cell_type": "code",
   "execution_count": 272,
   "metadata": {},
   "outputs": [],
   "source": [
    "import pandas as pd\n",
    "import numpy as np\n",
    "\n",
    "import sklearn\n",
    "from sklearn import preprocessing\n",
    "from sklearn.model_selection import train_test_split\n",
    "from sklearn.metrics import precision_recall_fscore_support\n",
    "from sklearn.model_selection import cross_val_score\n",
    "from sklearn.metrics import confusion_matrix, plot_confusion_matrix, classification_report\n",
    "\n",
    "import time\n",
    "\n",
    "from sklearn.neighbors import KNeighborsClassifier\n",
    "from sklearn.naive_bayes import BernoulliNB\n",
    "from sklearn import tree\n",
    "from sklearn.neural_network import MLPClassifier"
   ]
  },
  {
   "cell_type": "code",
   "execution_count": 273,
   "metadata": {},
   "outputs": [
    {
     "output_type": "execute_result",
     "data": {
      "text/plain": [
       "     age  sex  cp  trestbps  chol  fbs  restecg  thalach  exang  oldpeak  \\\n",
       "0     63    1   3       145   233    1        0      150      0      2.3   \n",
       "1     37    1   2       130   250    0        1      187      0      3.5   \n",
       "2     41    0   1       130   204    0        0      172      0      1.4   \n",
       "3     56    1   1       120   236    0        1      178      0      0.8   \n",
       "4     57    0   0       120   354    0        1      163      1      0.6   \n",
       "..   ...  ...  ..       ...   ...  ...      ...      ...    ...      ...   \n",
       "298   57    0   0       140   241    0        1      123      1      0.2   \n",
       "299   45    1   3       110   264    0        1      132      0      1.2   \n",
       "300   68    1   0       144   193    1        1      141      0      3.4   \n",
       "301   57    1   0       130   131    0        1      115      1      1.2   \n",
       "302   57    0   1       130   236    0        0      174      0      0.0   \n",
       "\n",
       "     slope  ca  thal  target  \n",
       "0        0   0     1       1  \n",
       "1        0   0     2       1  \n",
       "2        2   0     2       1  \n",
       "3        2   0     2       1  \n",
       "4        2   0     2       1  \n",
       "..     ...  ..   ...     ...  \n",
       "298      1   0     3       0  \n",
       "299      1   0     3       0  \n",
       "300      1   2     3       0  \n",
       "301      1   1     3       0  \n",
       "302      1   1     2       0  \n",
       "\n",
       "[303 rows x 14 columns]"
      ],
      "text/html": "<div>\n<style scoped>\n    .dataframe tbody tr th:only-of-type {\n        vertical-align: middle;\n    }\n\n    .dataframe tbody tr th {\n        vertical-align: top;\n    }\n\n    .dataframe thead th {\n        text-align: right;\n    }\n</style>\n<table border=\"1\" class=\"dataframe\">\n  <thead>\n    <tr style=\"text-align: right;\">\n      <th></th>\n      <th>age</th>\n      <th>sex</th>\n      <th>cp</th>\n      <th>trestbps</th>\n      <th>chol</th>\n      <th>fbs</th>\n      <th>restecg</th>\n      <th>thalach</th>\n      <th>exang</th>\n      <th>oldpeak</th>\n      <th>slope</th>\n      <th>ca</th>\n      <th>thal</th>\n      <th>target</th>\n    </tr>\n  </thead>\n  <tbody>\n    <tr>\n      <th>0</th>\n      <td>63</td>\n      <td>1</td>\n      <td>3</td>\n      <td>145</td>\n      <td>233</td>\n      <td>1</td>\n      <td>0</td>\n      <td>150</td>\n      <td>0</td>\n      <td>2.3</td>\n      <td>0</td>\n      <td>0</td>\n      <td>1</td>\n      <td>1</td>\n    </tr>\n    <tr>\n      <th>1</th>\n      <td>37</td>\n      <td>1</td>\n      <td>2</td>\n      <td>130</td>\n      <td>250</td>\n      <td>0</td>\n      <td>1</td>\n      <td>187</td>\n      <td>0</td>\n      <td>3.5</td>\n      <td>0</td>\n      <td>0</td>\n      <td>2</td>\n      <td>1</td>\n    </tr>\n    <tr>\n      <th>2</th>\n      <td>41</td>\n      <td>0</td>\n      <td>1</td>\n      <td>130</td>\n      <td>204</td>\n      <td>0</td>\n      <td>0</td>\n      <td>172</td>\n      <td>0</td>\n      <td>1.4</td>\n      <td>2</td>\n      <td>0</td>\n      <td>2</td>\n      <td>1</td>\n    </tr>\n    <tr>\n      <th>3</th>\n      <td>56</td>\n      <td>1</td>\n      <td>1</td>\n      <td>120</td>\n      <td>236</td>\n      <td>0</td>\n      <td>1</td>\n      <td>178</td>\n      <td>0</td>\n      <td>0.8</td>\n      <td>2</td>\n      <td>0</td>\n      <td>2</td>\n      <td>1</td>\n    </tr>\n    <tr>\n      <th>4</th>\n      <td>57</td>\n      <td>0</td>\n      <td>0</td>\n      <td>120</td>\n      <td>354</td>\n      <td>0</td>\n      <td>1</td>\n      <td>163</td>\n      <td>1</td>\n      <td>0.6</td>\n      <td>2</td>\n      <td>0</td>\n      <td>2</td>\n      <td>1</td>\n    </tr>\n    <tr>\n      <th>...</th>\n      <td>...</td>\n      <td>...</td>\n      <td>...</td>\n      <td>...</td>\n      <td>...</td>\n      <td>...</td>\n      <td>...</td>\n      <td>...</td>\n      <td>...</td>\n      <td>...</td>\n      <td>...</td>\n      <td>...</td>\n      <td>...</td>\n      <td>...</td>\n    </tr>\n    <tr>\n      <th>298</th>\n      <td>57</td>\n      <td>0</td>\n      <td>0</td>\n      <td>140</td>\n      <td>241</td>\n      <td>0</td>\n      <td>1</td>\n      <td>123</td>\n      <td>1</td>\n      <td>0.2</td>\n      <td>1</td>\n      <td>0</td>\n      <td>3</td>\n      <td>0</td>\n    </tr>\n    <tr>\n      <th>299</th>\n      <td>45</td>\n      <td>1</td>\n      <td>3</td>\n      <td>110</td>\n      <td>264</td>\n      <td>0</td>\n      <td>1</td>\n      <td>132</td>\n      <td>0</td>\n      <td>1.2</td>\n      <td>1</td>\n      <td>0</td>\n      <td>3</td>\n      <td>0</td>\n    </tr>\n    <tr>\n      <th>300</th>\n      <td>68</td>\n      <td>1</td>\n      <td>0</td>\n      <td>144</td>\n      <td>193</td>\n      <td>1</td>\n      <td>1</td>\n      <td>141</td>\n      <td>0</td>\n      <td>3.4</td>\n      <td>1</td>\n      <td>2</td>\n      <td>3</td>\n      <td>0</td>\n    </tr>\n    <tr>\n      <th>301</th>\n      <td>57</td>\n      <td>1</td>\n      <td>0</td>\n      <td>130</td>\n      <td>131</td>\n      <td>0</td>\n      <td>1</td>\n      <td>115</td>\n      <td>1</td>\n      <td>1.2</td>\n      <td>1</td>\n      <td>1</td>\n      <td>3</td>\n      <td>0</td>\n    </tr>\n    <tr>\n      <th>302</th>\n      <td>57</td>\n      <td>0</td>\n      <td>1</td>\n      <td>130</td>\n      <td>236</td>\n      <td>0</td>\n      <td>0</td>\n      <td>174</td>\n      <td>0</td>\n      <td>0.0</td>\n      <td>1</td>\n      <td>1</td>\n      <td>2</td>\n      <td>0</td>\n    </tr>\n  </tbody>\n</table>\n<p>303 rows × 14 columns</p>\n</div>"
     },
     "metadata": {},
     "execution_count": 273
    }
   ],
   "source": [
    "df = pd.read_csv(\"data/heart.csv\")\n",
    "df"
   ]
  },
  {
   "source": [
    "Fazendo uma exploração inicial dos atributos target, temos"
   ],
   "cell_type": "markdown",
   "metadata": {}
  },
  {
   "cell_type": "code",
   "execution_count": 274,
   "metadata": {},
   "outputs": [
    {
     "output_type": "execute_result",
     "data": {
      "text/plain": [
       "target\n",
       "0    138\n",
       "1    165\n",
       "Name: age, dtype: int64"
      ]
     },
     "metadata": {},
     "execution_count": 274
    }
   ],
   "source": [
    "#Analisando primeiro os problemas de coração por idade\n",
    "df.groupby('target')['age'].count()"
   ]
  },
  {
   "cell_type": "code",
   "execution_count": 275,
   "metadata": {},
   "outputs": [
    {
     "output_type": "stream",
     "name": "stdout",
     "text": [
      "<class 'pandas.core.frame.DataFrame'>\nRangeIndex: 303 entries, 0 to 302\nData columns (total 14 columns):\n #   Column    Non-Null Count  Dtype  \n---  ------    --------------  -----  \n 0   age       303 non-null    int64  \n 1   sex       303 non-null    int64  \n 2   cp        303 non-null    int64  \n 3   trestbps  303 non-null    int64  \n 4   chol      303 non-null    int64  \n 5   fbs       303 non-null    int64  \n 6   restecg   303 non-null    int64  \n 7   thalach   303 non-null    int64  \n 8   exang     303 non-null    int64  \n 9   oldpeak   303 non-null    float64\n 10  slope     303 non-null    int64  \n 11  ca        303 non-null    int64  \n 12  thal      303 non-null    int64  \n 13  target    303 non-null    int64  \ndtypes: float64(1), int64(13)\nmemory usage: 33.3 KB\n"
     ]
    }
   ],
   "source": [
    "df.info()"
   ]
  },
  {
   "cell_type": "code",
   "execution_count": 276,
   "metadata": {},
   "outputs": [
    {
     "output_type": "execute_result",
     "data": {
      "text/plain": [
       "              age         sex          cp    trestbps        chol         fbs  \\\n",
       "count  303.000000  303.000000  303.000000  303.000000  303.000000  303.000000   \n",
       "mean    54.366337    0.683168    0.966997  131.623762  246.264026    0.148515   \n",
       "std      9.082101    0.466011    1.032052   17.538143   51.830751    0.356198   \n",
       "min     29.000000    0.000000    0.000000   94.000000  126.000000    0.000000   \n",
       "25%     47.500000    0.000000    0.000000  120.000000  211.000000    0.000000   \n",
       "50%     55.000000    1.000000    1.000000  130.000000  240.000000    0.000000   \n",
       "75%     61.000000    1.000000    2.000000  140.000000  274.500000    0.000000   \n",
       "max     77.000000    1.000000    3.000000  200.000000  564.000000    1.000000   \n",
       "\n",
       "          restecg     thalach       exang     oldpeak       slope          ca  \\\n",
       "count  303.000000  303.000000  303.000000  303.000000  303.000000  303.000000   \n",
       "mean     0.528053  149.646865    0.326733    1.039604    1.399340    0.729373   \n",
       "std      0.525860   22.905161    0.469794    1.161075    0.616226    1.022606   \n",
       "min      0.000000   71.000000    0.000000    0.000000    0.000000    0.000000   \n",
       "25%      0.000000  133.500000    0.000000    0.000000    1.000000    0.000000   \n",
       "50%      1.000000  153.000000    0.000000    0.800000    1.000000    0.000000   \n",
       "75%      1.000000  166.000000    1.000000    1.600000    2.000000    1.000000   \n",
       "max      2.000000  202.000000    1.000000    6.200000    2.000000    4.000000   \n",
       "\n",
       "             thal      target  \n",
       "count  303.000000  303.000000  \n",
       "mean     2.313531    0.544554  \n",
       "std      0.612277    0.498835  \n",
       "min      0.000000    0.000000  \n",
       "25%      2.000000    0.000000  \n",
       "50%      2.000000    1.000000  \n",
       "75%      3.000000    1.000000  \n",
       "max      3.000000    1.000000  "
      ],
      "text/html": "<div>\n<style scoped>\n    .dataframe tbody tr th:only-of-type {\n        vertical-align: middle;\n    }\n\n    .dataframe tbody tr th {\n        vertical-align: top;\n    }\n\n    .dataframe thead th {\n        text-align: right;\n    }\n</style>\n<table border=\"1\" class=\"dataframe\">\n  <thead>\n    <tr style=\"text-align: right;\">\n      <th></th>\n      <th>age</th>\n      <th>sex</th>\n      <th>cp</th>\n      <th>trestbps</th>\n      <th>chol</th>\n      <th>fbs</th>\n      <th>restecg</th>\n      <th>thalach</th>\n      <th>exang</th>\n      <th>oldpeak</th>\n      <th>slope</th>\n      <th>ca</th>\n      <th>thal</th>\n      <th>target</th>\n    </tr>\n  </thead>\n  <tbody>\n    <tr>\n      <th>count</th>\n      <td>303.000000</td>\n      <td>303.000000</td>\n      <td>303.000000</td>\n      <td>303.000000</td>\n      <td>303.000000</td>\n      <td>303.000000</td>\n      <td>303.000000</td>\n      <td>303.000000</td>\n      <td>303.000000</td>\n      <td>303.000000</td>\n      <td>303.000000</td>\n      <td>303.000000</td>\n      <td>303.000000</td>\n      <td>303.000000</td>\n    </tr>\n    <tr>\n      <th>mean</th>\n      <td>54.366337</td>\n      <td>0.683168</td>\n      <td>0.966997</td>\n      <td>131.623762</td>\n      <td>246.264026</td>\n      <td>0.148515</td>\n      <td>0.528053</td>\n      <td>149.646865</td>\n      <td>0.326733</td>\n      <td>1.039604</td>\n      <td>1.399340</td>\n      <td>0.729373</td>\n      <td>2.313531</td>\n      <td>0.544554</td>\n    </tr>\n    <tr>\n      <th>std</th>\n      <td>9.082101</td>\n      <td>0.466011</td>\n      <td>1.032052</td>\n      <td>17.538143</td>\n      <td>51.830751</td>\n      <td>0.356198</td>\n      <td>0.525860</td>\n      <td>22.905161</td>\n      <td>0.469794</td>\n      <td>1.161075</td>\n      <td>0.616226</td>\n      <td>1.022606</td>\n      <td>0.612277</td>\n      <td>0.498835</td>\n    </tr>\n    <tr>\n      <th>min</th>\n      <td>29.000000</td>\n      <td>0.000000</td>\n      <td>0.000000</td>\n      <td>94.000000</td>\n      <td>126.000000</td>\n      <td>0.000000</td>\n      <td>0.000000</td>\n      <td>71.000000</td>\n      <td>0.000000</td>\n      <td>0.000000</td>\n      <td>0.000000</td>\n      <td>0.000000</td>\n      <td>0.000000</td>\n      <td>0.000000</td>\n    </tr>\n    <tr>\n      <th>25%</th>\n      <td>47.500000</td>\n      <td>0.000000</td>\n      <td>0.000000</td>\n      <td>120.000000</td>\n      <td>211.000000</td>\n      <td>0.000000</td>\n      <td>0.000000</td>\n      <td>133.500000</td>\n      <td>0.000000</td>\n      <td>0.000000</td>\n      <td>1.000000</td>\n      <td>0.000000</td>\n      <td>2.000000</td>\n      <td>0.000000</td>\n    </tr>\n    <tr>\n      <th>50%</th>\n      <td>55.000000</td>\n      <td>1.000000</td>\n      <td>1.000000</td>\n      <td>130.000000</td>\n      <td>240.000000</td>\n      <td>0.000000</td>\n      <td>1.000000</td>\n      <td>153.000000</td>\n      <td>0.000000</td>\n      <td>0.800000</td>\n      <td>1.000000</td>\n      <td>0.000000</td>\n      <td>2.000000</td>\n      <td>1.000000</td>\n    </tr>\n    <tr>\n      <th>75%</th>\n      <td>61.000000</td>\n      <td>1.000000</td>\n      <td>2.000000</td>\n      <td>140.000000</td>\n      <td>274.500000</td>\n      <td>0.000000</td>\n      <td>1.000000</td>\n      <td>166.000000</td>\n      <td>1.000000</td>\n      <td>1.600000</td>\n      <td>2.000000</td>\n      <td>1.000000</td>\n      <td>3.000000</td>\n      <td>1.000000</td>\n    </tr>\n    <tr>\n      <th>max</th>\n      <td>77.000000</td>\n      <td>1.000000</td>\n      <td>3.000000</td>\n      <td>200.000000</td>\n      <td>564.000000</td>\n      <td>1.000000</td>\n      <td>2.000000</td>\n      <td>202.000000</td>\n      <td>1.000000</td>\n      <td>6.200000</td>\n      <td>2.000000</td>\n      <td>4.000000</td>\n      <td>3.000000</td>\n      <td>1.000000</td>\n    </tr>\n  </tbody>\n</table>\n</div>"
     },
     "metadata": {},
     "execution_count": 276
    }
   ],
   "source": [
    "df.describe()"
   ]
  },
  {
   "source": [
    "Como os targets estão bem distribuidos, podemos fazer uma análise inicial e verificarmos as correlações naturalmente"
   ],
   "cell_type": "markdown",
   "metadata": {}
  },
  {
   "cell_type": "code",
   "execution_count": 277,
   "metadata": {},
   "outputs": [
    {
     "output_type": "execute_result",
     "data": {
      "text/plain": [
       "               age       sex        cp  trestbps      chol       fbs  \\\n",
       "age       1.000000 -0.098447 -0.068653  0.279351  0.213678  0.121308   \n",
       "sex      -0.098447  1.000000 -0.049353 -0.056769 -0.197912  0.045032   \n",
       "cp       -0.068653 -0.049353  1.000000  0.047608 -0.076904  0.094444   \n",
       "trestbps  0.279351 -0.056769  0.047608  1.000000  0.123174  0.177531   \n",
       "chol      0.213678 -0.197912 -0.076904  0.123174  1.000000  0.013294   \n",
       "fbs       0.121308  0.045032  0.094444  0.177531  0.013294  1.000000   \n",
       "restecg  -0.116211 -0.058196  0.044421 -0.114103 -0.151040 -0.084189   \n",
       "thalach  -0.398522 -0.044020  0.295762 -0.046698 -0.009940 -0.008567   \n",
       "exang     0.096801  0.141664 -0.394280  0.067616  0.067023  0.025665   \n",
       "oldpeak   0.210013  0.096093 -0.149230  0.193216  0.053952  0.005747   \n",
       "slope    -0.168814 -0.030711  0.119717 -0.121475 -0.004038 -0.059894   \n",
       "ca        0.276326  0.118261 -0.181053  0.101389  0.070511  0.137979   \n",
       "thal      0.068001  0.210041 -0.161736  0.062210  0.098803 -0.032019   \n",
       "target   -0.225439 -0.280937  0.433798 -0.144931 -0.085239 -0.028046   \n",
       "\n",
       "           restecg   thalach     exang   oldpeak     slope        ca  \\\n",
       "age      -0.116211 -0.398522  0.096801  0.210013 -0.168814  0.276326   \n",
       "sex      -0.058196 -0.044020  0.141664  0.096093 -0.030711  0.118261   \n",
       "cp        0.044421  0.295762 -0.394280 -0.149230  0.119717 -0.181053   \n",
       "trestbps -0.114103 -0.046698  0.067616  0.193216 -0.121475  0.101389   \n",
       "chol     -0.151040 -0.009940  0.067023  0.053952 -0.004038  0.070511   \n",
       "fbs      -0.084189 -0.008567  0.025665  0.005747 -0.059894  0.137979   \n",
       "restecg   1.000000  0.044123 -0.070733 -0.058770  0.093045 -0.072042   \n",
       "thalach   0.044123  1.000000 -0.378812 -0.344187  0.386784 -0.213177   \n",
       "exang    -0.070733 -0.378812  1.000000  0.288223 -0.257748  0.115739   \n",
       "oldpeak  -0.058770 -0.344187  0.288223  1.000000 -0.577537  0.222682   \n",
       "slope     0.093045  0.386784 -0.257748 -0.577537  1.000000 -0.080155   \n",
       "ca       -0.072042 -0.213177  0.115739  0.222682 -0.080155  1.000000   \n",
       "thal     -0.011981 -0.096439  0.206754  0.210244 -0.104764  0.151832   \n",
       "target    0.137230  0.421741 -0.436757 -0.430696  0.345877 -0.391724   \n",
       "\n",
       "              thal    target  \n",
       "age       0.068001 -0.225439  \n",
       "sex       0.210041 -0.280937  \n",
       "cp       -0.161736  0.433798  \n",
       "trestbps  0.062210 -0.144931  \n",
       "chol      0.098803 -0.085239  \n",
       "fbs      -0.032019 -0.028046  \n",
       "restecg  -0.011981  0.137230  \n",
       "thalach  -0.096439  0.421741  \n",
       "exang     0.206754 -0.436757  \n",
       "oldpeak   0.210244 -0.430696  \n",
       "slope    -0.104764  0.345877  \n",
       "ca        0.151832 -0.391724  \n",
       "thal      1.000000 -0.344029  \n",
       "target   -0.344029  1.000000  "
      ],
      "text/html": "<div>\n<style scoped>\n    .dataframe tbody tr th:only-of-type {\n        vertical-align: middle;\n    }\n\n    .dataframe tbody tr th {\n        vertical-align: top;\n    }\n\n    .dataframe thead th {\n        text-align: right;\n    }\n</style>\n<table border=\"1\" class=\"dataframe\">\n  <thead>\n    <tr style=\"text-align: right;\">\n      <th></th>\n      <th>age</th>\n      <th>sex</th>\n      <th>cp</th>\n      <th>trestbps</th>\n      <th>chol</th>\n      <th>fbs</th>\n      <th>restecg</th>\n      <th>thalach</th>\n      <th>exang</th>\n      <th>oldpeak</th>\n      <th>slope</th>\n      <th>ca</th>\n      <th>thal</th>\n      <th>target</th>\n    </tr>\n  </thead>\n  <tbody>\n    <tr>\n      <th>age</th>\n      <td>1.000000</td>\n      <td>-0.098447</td>\n      <td>-0.068653</td>\n      <td>0.279351</td>\n      <td>0.213678</td>\n      <td>0.121308</td>\n      <td>-0.116211</td>\n      <td>-0.398522</td>\n      <td>0.096801</td>\n      <td>0.210013</td>\n      <td>-0.168814</td>\n      <td>0.276326</td>\n      <td>0.068001</td>\n      <td>-0.225439</td>\n    </tr>\n    <tr>\n      <th>sex</th>\n      <td>-0.098447</td>\n      <td>1.000000</td>\n      <td>-0.049353</td>\n      <td>-0.056769</td>\n      <td>-0.197912</td>\n      <td>0.045032</td>\n      <td>-0.058196</td>\n      <td>-0.044020</td>\n      <td>0.141664</td>\n      <td>0.096093</td>\n      <td>-0.030711</td>\n      <td>0.118261</td>\n      <td>0.210041</td>\n      <td>-0.280937</td>\n    </tr>\n    <tr>\n      <th>cp</th>\n      <td>-0.068653</td>\n      <td>-0.049353</td>\n      <td>1.000000</td>\n      <td>0.047608</td>\n      <td>-0.076904</td>\n      <td>0.094444</td>\n      <td>0.044421</td>\n      <td>0.295762</td>\n      <td>-0.394280</td>\n      <td>-0.149230</td>\n      <td>0.119717</td>\n      <td>-0.181053</td>\n      <td>-0.161736</td>\n      <td>0.433798</td>\n    </tr>\n    <tr>\n      <th>trestbps</th>\n      <td>0.279351</td>\n      <td>-0.056769</td>\n      <td>0.047608</td>\n      <td>1.000000</td>\n      <td>0.123174</td>\n      <td>0.177531</td>\n      <td>-0.114103</td>\n      <td>-0.046698</td>\n      <td>0.067616</td>\n      <td>0.193216</td>\n      <td>-0.121475</td>\n      <td>0.101389</td>\n      <td>0.062210</td>\n      <td>-0.144931</td>\n    </tr>\n    <tr>\n      <th>chol</th>\n      <td>0.213678</td>\n      <td>-0.197912</td>\n      <td>-0.076904</td>\n      <td>0.123174</td>\n      <td>1.000000</td>\n      <td>0.013294</td>\n      <td>-0.151040</td>\n      <td>-0.009940</td>\n      <td>0.067023</td>\n      <td>0.053952</td>\n      <td>-0.004038</td>\n      <td>0.070511</td>\n      <td>0.098803</td>\n      <td>-0.085239</td>\n    </tr>\n    <tr>\n      <th>fbs</th>\n      <td>0.121308</td>\n      <td>0.045032</td>\n      <td>0.094444</td>\n      <td>0.177531</td>\n      <td>0.013294</td>\n      <td>1.000000</td>\n      <td>-0.084189</td>\n      <td>-0.008567</td>\n      <td>0.025665</td>\n      <td>0.005747</td>\n      <td>-0.059894</td>\n      <td>0.137979</td>\n      <td>-0.032019</td>\n      <td>-0.028046</td>\n    </tr>\n    <tr>\n      <th>restecg</th>\n      <td>-0.116211</td>\n      <td>-0.058196</td>\n      <td>0.044421</td>\n      <td>-0.114103</td>\n      <td>-0.151040</td>\n      <td>-0.084189</td>\n      <td>1.000000</td>\n      <td>0.044123</td>\n      <td>-0.070733</td>\n      <td>-0.058770</td>\n      <td>0.093045</td>\n      <td>-0.072042</td>\n      <td>-0.011981</td>\n      <td>0.137230</td>\n    </tr>\n    <tr>\n      <th>thalach</th>\n      <td>-0.398522</td>\n      <td>-0.044020</td>\n      <td>0.295762</td>\n      <td>-0.046698</td>\n      <td>-0.009940</td>\n      <td>-0.008567</td>\n      <td>0.044123</td>\n      <td>1.000000</td>\n      <td>-0.378812</td>\n      <td>-0.344187</td>\n      <td>0.386784</td>\n      <td>-0.213177</td>\n      <td>-0.096439</td>\n      <td>0.421741</td>\n    </tr>\n    <tr>\n      <th>exang</th>\n      <td>0.096801</td>\n      <td>0.141664</td>\n      <td>-0.394280</td>\n      <td>0.067616</td>\n      <td>0.067023</td>\n      <td>0.025665</td>\n      <td>-0.070733</td>\n      <td>-0.378812</td>\n      <td>1.000000</td>\n      <td>0.288223</td>\n      <td>-0.257748</td>\n      <td>0.115739</td>\n      <td>0.206754</td>\n      <td>-0.436757</td>\n    </tr>\n    <tr>\n      <th>oldpeak</th>\n      <td>0.210013</td>\n      <td>0.096093</td>\n      <td>-0.149230</td>\n      <td>0.193216</td>\n      <td>0.053952</td>\n      <td>0.005747</td>\n      <td>-0.058770</td>\n      <td>-0.344187</td>\n      <td>0.288223</td>\n      <td>1.000000</td>\n      <td>-0.577537</td>\n      <td>0.222682</td>\n      <td>0.210244</td>\n      <td>-0.430696</td>\n    </tr>\n    <tr>\n      <th>slope</th>\n      <td>-0.168814</td>\n      <td>-0.030711</td>\n      <td>0.119717</td>\n      <td>-0.121475</td>\n      <td>-0.004038</td>\n      <td>-0.059894</td>\n      <td>0.093045</td>\n      <td>0.386784</td>\n      <td>-0.257748</td>\n      <td>-0.577537</td>\n      <td>1.000000</td>\n      <td>-0.080155</td>\n      <td>-0.104764</td>\n      <td>0.345877</td>\n    </tr>\n    <tr>\n      <th>ca</th>\n      <td>0.276326</td>\n      <td>0.118261</td>\n      <td>-0.181053</td>\n      <td>0.101389</td>\n      <td>0.070511</td>\n      <td>0.137979</td>\n      <td>-0.072042</td>\n      <td>-0.213177</td>\n      <td>0.115739</td>\n      <td>0.222682</td>\n      <td>-0.080155</td>\n      <td>1.000000</td>\n      <td>0.151832</td>\n      <td>-0.391724</td>\n    </tr>\n    <tr>\n      <th>thal</th>\n      <td>0.068001</td>\n      <td>0.210041</td>\n      <td>-0.161736</td>\n      <td>0.062210</td>\n      <td>0.098803</td>\n      <td>-0.032019</td>\n      <td>-0.011981</td>\n      <td>-0.096439</td>\n      <td>0.206754</td>\n      <td>0.210244</td>\n      <td>-0.104764</td>\n      <td>0.151832</td>\n      <td>1.000000</td>\n      <td>-0.344029</td>\n    </tr>\n    <tr>\n      <th>target</th>\n      <td>-0.225439</td>\n      <td>-0.280937</td>\n      <td>0.433798</td>\n      <td>-0.144931</td>\n      <td>-0.085239</td>\n      <td>-0.028046</td>\n      <td>0.137230</td>\n      <td>0.421741</td>\n      <td>-0.436757</td>\n      <td>-0.430696</td>\n      <td>0.345877</td>\n      <td>-0.391724</td>\n      <td>-0.344029</td>\n      <td>1.000000</td>\n    </tr>\n  </tbody>\n</table>\n</div>"
     },
     "metadata": {},
     "execution_count": 277
    }
   ],
   "source": [
    "df.corr()"
   ]
  },
  {
   "source": [
    "# Primeiras Predições\n",
    "\n",
    "Como já possuímos bons atributos correlacionados, vamos tentar criar um modelo relevante com eles"
   ],
   "cell_type": "markdown",
   "metadata": {}
  },
  {
   "cell_type": "code",
   "execution_count": 278,
   "metadata": {},
   "outputs": [],
   "source": [
    "def classifier(X_train,X_test,Y_train,Y_test):\n",
    "    #Aplicando KNN\n",
    "    print(\" KNN \")\n",
    "    ini = time.time() #Inicio do calculo do tempo\n",
    "\n",
    "    knn=KNeighborsClassifier()\n",
    "    knn.fit(X_train,Y_train)\n",
    "\n",
    "    end = time.time()\n",
    "    knn_time = end - ini # Fim do calculo do tempo\n",
    "\n",
    "    print(classification_report(Y_test,knn.predict(X_test)))\n",
    "    print()\n",
    "    \n",
    "    #Aplicando Naive Bayes\n",
    "    print(\"Naive Bayes\")\n",
    "    ini = time.time() #Inicio do calculo do tempo\n",
    "\n",
    "    nb=BernoulliNB()\n",
    "    nb.fit(X_train,Y_train)\n",
    "\n",
    "    end = time.time()\n",
    "    nb_time = end - ini # Fim do calculo do tempo\n",
    "\n",
    "    print(classification_report(Y_test,nb.predict(X_test)))\n",
    "    print()\n",
    "    \n",
    "    #Aplicando Arvore de Decisao\n",
    "    print(\"Árvore de Decisão\")\n",
    "    ini = time.time() #Inicio do calculo do tempo\n",
    "\n",
    "    dtc=tree.DecisionTreeClassifier()\n",
    "    dtc.fit(X_train,Y_train)\n",
    "\n",
    "    end = time.time()\n",
    "    dtc_time = end - ini # Fim do calculo do tempo\n",
    "\n",
    "    print(classification_report(Y_test,dtc.predict(X_test)))\n",
    "\n",
    "    #Aplicando MLP\n",
    "    print(\"MLP\")\n",
    "    ini = time.time() #Inicio do calculo do tempo\n",
    "\n",
    "    mlp = MLPClassifier(alpha=1, max_iter=1000)\n",
    "    mlp.fit(X_train, Y_train)\n",
    "\n",
    "    end = time.time()\n",
    "    mlp_time = end - ini # Fim do calculo do tempo\n",
    "\n",
    "    print(classification_report(Y_test,mlp.predict(X_test)))\n",
    "\n",
    "    return knn, nb, dtc, mlp\n",
    "\n",
    "def runModels(relevantFeatures):\n",
    "    X_train,X_test,Y_train,Y_test=train_test_split(\n",
    "        df[relevantFeatures], df['target'], test_size=0.2, random_state=0\n",
    "    )\n",
    "\n",
    "    knn, nb, dtc, mlp = classifier(X_train,X_test,Y_train,Y_test)"
   ]
  },
  {
   "cell_type": "code",
   "execution_count": 279,
   "metadata": {},
   "outputs": [
    {
     "output_type": "stream",
     "name": "stdout",
     "text": [
      " KNN \n              precision    recall  f1-score   support\n\n           0       0.75      0.78      0.76        27\n           1       0.82      0.79      0.81        34\n\n    accuracy                           0.79        61\n   macro avg       0.78      0.79      0.78        61\nweighted avg       0.79      0.79      0.79        61\n\n\nNaive Bayes\n              precision    recall  f1-score   support\n\n           0       0.82      0.67      0.73        27\n           1       0.77      0.88      0.82        34\n\n    accuracy                           0.79        61\n   macro avg       0.79      0.77      0.78        61\nweighted avg       0.79      0.79      0.78        61\n\n\nÁrvore de Decisão\n              precision    recall  f1-score   support\n\n           0       0.76      0.70      0.73        27\n           1       0.78      0.82      0.80        34\n\n    accuracy                           0.77        61\n   macro avg       0.77      0.76      0.77        61\nweighted avg       0.77      0.77      0.77        61\n\nMLP\n              precision    recall  f1-score   support\n\n           0       0.82      0.67      0.73        27\n           1       0.77      0.88      0.82        34\n\n    accuracy                           0.79        61\n   macro avg       0.79      0.77      0.78        61\nweighted avg       0.79      0.79      0.78        61\n\n"
     ]
    }
   ],
   "source": [
    "runModels([\"cp\", \"thalach\", \"exang\", \"oldpeak\", \"ca\"])"
   ]
  },
  {
   "source": [
    "# Binarização e Arredondamento\n",
    "\n",
    "Com uma simples análise das features e boas correlações, pudemos obter um modelo razoávelmente aceitável sem muitas manipulações. Vamos tentar agora usar alguma estratégia de agrupamento para melhorarmos o modelo criado."
   ],
   "cell_type": "markdown",
   "metadata": {}
  },
  {
   "cell_type": "code",
   "execution_count": 280,
   "metadata": {},
   "outputs": [],
   "source": [
    "def binarize(row, attr):\n",
    "    if(int(row[attr]) >= 1):\n",
    "        return 1\n",
    "    return 0\n",
    "\n",
    "def around(row, attr):    \n",
    "    return int(np.floor(row[attr]))"
   ]
  },
  {
   "cell_type": "code",
   "execution_count": 281,
   "metadata": {},
   "outputs": [
    {
     "output_type": "execute_result",
     "data": {
      "text/plain": [
       "                     age       sex        cp  trestbps      chol       fbs  \\\n",
       "age             1.000000 -0.098447 -0.068653  0.279351  0.213678  0.121308   \n",
       "sex            -0.098447  1.000000 -0.049353 -0.056769 -0.197912  0.045032   \n",
       "cp             -0.068653 -0.049353  1.000000  0.047608 -0.076904  0.094444   \n",
       "trestbps        0.279351 -0.056769  0.047608  1.000000  0.123174  0.177531   \n",
       "chol            0.213678 -0.197912 -0.076904  0.123174  1.000000  0.013294   \n",
       "fbs             0.121308  0.045032  0.094444  0.177531  0.013294  1.000000   \n",
       "restecg        -0.116211 -0.058196  0.044421 -0.114103 -0.151040 -0.084189   \n",
       "thalach        -0.398522 -0.044020  0.295762 -0.046698 -0.009940 -0.008567   \n",
       "exang           0.096801  0.141664 -0.394280  0.067616  0.067023  0.025665   \n",
       "oldpeak         0.210013  0.096093 -0.149230  0.193216  0.053952  0.005747   \n",
       "slope          -0.168814 -0.030711  0.119717 -0.121475 -0.004038 -0.059894   \n",
       "ca              0.276326  0.118261 -0.181053  0.101389  0.070511  0.137979   \n",
       "thal            0.068001  0.210041 -0.161736  0.062210  0.098803 -0.032019   \n",
       "cp bin         -0.138253 -0.089621  0.887256 -0.021447 -0.070684  0.060190   \n",
       "oldpeak around  0.178396  0.089604 -0.180783  0.190276  0.035479  0.022088   \n",
       "target         -0.225439 -0.280937  0.433798 -0.144931 -0.085239 -0.028046   \n",
       "\n",
       "                 restecg   thalach     exang   oldpeak     slope        ca  \\\n",
       "age            -0.116211 -0.398522  0.096801  0.210013 -0.168814  0.276326   \n",
       "sex            -0.058196 -0.044020  0.141664  0.096093 -0.030711  0.118261   \n",
       "cp              0.044421  0.295762 -0.394280 -0.149230  0.119717 -0.181053   \n",
       "trestbps       -0.114103 -0.046698  0.067616  0.193216 -0.121475  0.101389   \n",
       "chol           -0.151040 -0.009940  0.067023  0.053952 -0.004038  0.070511   \n",
       "fbs            -0.084189 -0.008567  0.025665  0.005747 -0.059894  0.137979   \n",
       "restecg         1.000000  0.044123 -0.070733 -0.058770  0.093045 -0.072042   \n",
       "thalach         0.044123  1.000000 -0.378812 -0.344187  0.386784 -0.213177   \n",
       "exang          -0.070733 -0.378812  1.000000  0.288223 -0.257748  0.115739   \n",
       "oldpeak        -0.058770 -0.344187  0.288223  1.000000 -0.577537  0.222682   \n",
       "slope           0.093045  0.386784 -0.257748 -0.577537  1.000000 -0.080155   \n",
       "ca             -0.072042 -0.213177  0.115739  0.222682 -0.080155  1.000000   \n",
       "thal           -0.011981 -0.096439  0.206754  0.210244 -0.104764  0.151832   \n",
       "cp bin          0.094591  0.376561 -0.469061 -0.280243  0.216056 -0.218226   \n",
       "oldpeak around -0.055906 -0.327627  0.271144  0.966965 -0.555175  0.232167   \n",
       "target          0.137230  0.421741 -0.436757 -0.430696  0.345877 -0.391724   \n",
       "\n",
       "                    thal    cp bin  oldpeak around    target  \n",
       "age             0.068001 -0.138253        0.178396 -0.225439  \n",
       "sex             0.210041 -0.089621        0.089604 -0.280937  \n",
       "cp             -0.161736  0.887256       -0.180783  0.433798  \n",
       "trestbps        0.062210 -0.021447        0.190276 -0.144931  \n",
       "chol            0.098803 -0.070684        0.035479 -0.085239  \n",
       "fbs            -0.032019  0.060190        0.022088 -0.028046  \n",
       "restecg        -0.011981  0.094591       -0.055906  0.137230  \n",
       "thalach        -0.096439  0.376561       -0.327627  0.421741  \n",
       "exang           0.206754 -0.469061        0.271144 -0.436757  \n",
       "oldpeak         0.210244 -0.280243        0.966965 -0.430696  \n",
       "slope          -0.104764  0.216056       -0.555175  0.345877  \n",
       "ca              0.151832 -0.218226        0.232167 -0.391724  \n",
       "thal            1.000000 -0.207277        0.198263 -0.344029  \n",
       "cp bin         -0.207277  1.000000       -0.293763  0.516015  \n",
       "oldpeak around  0.198263 -0.293763        1.000000 -0.423572  \n",
       "target         -0.344029  0.516015       -0.423572  1.000000  "
      ],
      "text/html": "<div>\n<style scoped>\n    .dataframe tbody tr th:only-of-type {\n        vertical-align: middle;\n    }\n\n    .dataframe tbody tr th {\n        vertical-align: top;\n    }\n\n    .dataframe thead th {\n        text-align: right;\n    }\n</style>\n<table border=\"1\" class=\"dataframe\">\n  <thead>\n    <tr style=\"text-align: right;\">\n      <th></th>\n      <th>age</th>\n      <th>sex</th>\n      <th>cp</th>\n      <th>trestbps</th>\n      <th>chol</th>\n      <th>fbs</th>\n      <th>restecg</th>\n      <th>thalach</th>\n      <th>exang</th>\n      <th>oldpeak</th>\n      <th>slope</th>\n      <th>ca</th>\n      <th>thal</th>\n      <th>cp bin</th>\n      <th>oldpeak around</th>\n      <th>target</th>\n    </tr>\n  </thead>\n  <tbody>\n    <tr>\n      <th>age</th>\n      <td>1.000000</td>\n      <td>-0.098447</td>\n      <td>-0.068653</td>\n      <td>0.279351</td>\n      <td>0.213678</td>\n      <td>0.121308</td>\n      <td>-0.116211</td>\n      <td>-0.398522</td>\n      <td>0.096801</td>\n      <td>0.210013</td>\n      <td>-0.168814</td>\n      <td>0.276326</td>\n      <td>0.068001</td>\n      <td>-0.138253</td>\n      <td>0.178396</td>\n      <td>-0.225439</td>\n    </tr>\n    <tr>\n      <th>sex</th>\n      <td>-0.098447</td>\n      <td>1.000000</td>\n      <td>-0.049353</td>\n      <td>-0.056769</td>\n      <td>-0.197912</td>\n      <td>0.045032</td>\n      <td>-0.058196</td>\n      <td>-0.044020</td>\n      <td>0.141664</td>\n      <td>0.096093</td>\n      <td>-0.030711</td>\n      <td>0.118261</td>\n      <td>0.210041</td>\n      <td>-0.089621</td>\n      <td>0.089604</td>\n      <td>-0.280937</td>\n    </tr>\n    <tr>\n      <th>cp</th>\n      <td>-0.068653</td>\n      <td>-0.049353</td>\n      <td>1.000000</td>\n      <td>0.047608</td>\n      <td>-0.076904</td>\n      <td>0.094444</td>\n      <td>0.044421</td>\n      <td>0.295762</td>\n      <td>-0.394280</td>\n      <td>-0.149230</td>\n      <td>0.119717</td>\n      <td>-0.181053</td>\n      <td>-0.161736</td>\n      <td>0.887256</td>\n      <td>-0.180783</td>\n      <td>0.433798</td>\n    </tr>\n    <tr>\n      <th>trestbps</th>\n      <td>0.279351</td>\n      <td>-0.056769</td>\n      <td>0.047608</td>\n      <td>1.000000</td>\n      <td>0.123174</td>\n      <td>0.177531</td>\n      <td>-0.114103</td>\n      <td>-0.046698</td>\n      <td>0.067616</td>\n      <td>0.193216</td>\n      <td>-0.121475</td>\n      <td>0.101389</td>\n      <td>0.062210</td>\n      <td>-0.021447</td>\n      <td>0.190276</td>\n      <td>-0.144931</td>\n    </tr>\n    <tr>\n      <th>chol</th>\n      <td>0.213678</td>\n      <td>-0.197912</td>\n      <td>-0.076904</td>\n      <td>0.123174</td>\n      <td>1.000000</td>\n      <td>0.013294</td>\n      <td>-0.151040</td>\n      <td>-0.009940</td>\n      <td>0.067023</td>\n      <td>0.053952</td>\n      <td>-0.004038</td>\n      <td>0.070511</td>\n      <td>0.098803</td>\n      <td>-0.070684</td>\n      <td>0.035479</td>\n      <td>-0.085239</td>\n    </tr>\n    <tr>\n      <th>fbs</th>\n      <td>0.121308</td>\n      <td>0.045032</td>\n      <td>0.094444</td>\n      <td>0.177531</td>\n      <td>0.013294</td>\n      <td>1.000000</td>\n      <td>-0.084189</td>\n      <td>-0.008567</td>\n      <td>0.025665</td>\n      <td>0.005747</td>\n      <td>-0.059894</td>\n      <td>0.137979</td>\n      <td>-0.032019</td>\n      <td>0.060190</td>\n      <td>0.022088</td>\n      <td>-0.028046</td>\n    </tr>\n    <tr>\n      <th>restecg</th>\n      <td>-0.116211</td>\n      <td>-0.058196</td>\n      <td>0.044421</td>\n      <td>-0.114103</td>\n      <td>-0.151040</td>\n      <td>-0.084189</td>\n      <td>1.000000</td>\n      <td>0.044123</td>\n      <td>-0.070733</td>\n      <td>-0.058770</td>\n      <td>0.093045</td>\n      <td>-0.072042</td>\n      <td>-0.011981</td>\n      <td>0.094591</td>\n      <td>-0.055906</td>\n      <td>0.137230</td>\n    </tr>\n    <tr>\n      <th>thalach</th>\n      <td>-0.398522</td>\n      <td>-0.044020</td>\n      <td>0.295762</td>\n      <td>-0.046698</td>\n      <td>-0.009940</td>\n      <td>-0.008567</td>\n      <td>0.044123</td>\n      <td>1.000000</td>\n      <td>-0.378812</td>\n      <td>-0.344187</td>\n      <td>0.386784</td>\n      <td>-0.213177</td>\n      <td>-0.096439</td>\n      <td>0.376561</td>\n      <td>-0.327627</td>\n      <td>0.421741</td>\n    </tr>\n    <tr>\n      <th>exang</th>\n      <td>0.096801</td>\n      <td>0.141664</td>\n      <td>-0.394280</td>\n      <td>0.067616</td>\n      <td>0.067023</td>\n      <td>0.025665</td>\n      <td>-0.070733</td>\n      <td>-0.378812</td>\n      <td>1.000000</td>\n      <td>0.288223</td>\n      <td>-0.257748</td>\n      <td>0.115739</td>\n      <td>0.206754</td>\n      <td>-0.469061</td>\n      <td>0.271144</td>\n      <td>-0.436757</td>\n    </tr>\n    <tr>\n      <th>oldpeak</th>\n      <td>0.210013</td>\n      <td>0.096093</td>\n      <td>-0.149230</td>\n      <td>0.193216</td>\n      <td>0.053952</td>\n      <td>0.005747</td>\n      <td>-0.058770</td>\n      <td>-0.344187</td>\n      <td>0.288223</td>\n      <td>1.000000</td>\n      <td>-0.577537</td>\n      <td>0.222682</td>\n      <td>0.210244</td>\n      <td>-0.280243</td>\n      <td>0.966965</td>\n      <td>-0.430696</td>\n    </tr>\n    <tr>\n      <th>slope</th>\n      <td>-0.168814</td>\n      <td>-0.030711</td>\n      <td>0.119717</td>\n      <td>-0.121475</td>\n      <td>-0.004038</td>\n      <td>-0.059894</td>\n      <td>0.093045</td>\n      <td>0.386784</td>\n      <td>-0.257748</td>\n      <td>-0.577537</td>\n      <td>1.000000</td>\n      <td>-0.080155</td>\n      <td>-0.104764</td>\n      <td>0.216056</td>\n      <td>-0.555175</td>\n      <td>0.345877</td>\n    </tr>\n    <tr>\n      <th>ca</th>\n      <td>0.276326</td>\n      <td>0.118261</td>\n      <td>-0.181053</td>\n      <td>0.101389</td>\n      <td>0.070511</td>\n      <td>0.137979</td>\n      <td>-0.072042</td>\n      <td>-0.213177</td>\n      <td>0.115739</td>\n      <td>0.222682</td>\n      <td>-0.080155</td>\n      <td>1.000000</td>\n      <td>0.151832</td>\n      <td>-0.218226</td>\n      <td>0.232167</td>\n      <td>-0.391724</td>\n    </tr>\n    <tr>\n      <th>thal</th>\n      <td>0.068001</td>\n      <td>0.210041</td>\n      <td>-0.161736</td>\n      <td>0.062210</td>\n      <td>0.098803</td>\n      <td>-0.032019</td>\n      <td>-0.011981</td>\n      <td>-0.096439</td>\n      <td>0.206754</td>\n      <td>0.210244</td>\n      <td>-0.104764</td>\n      <td>0.151832</td>\n      <td>1.000000</td>\n      <td>-0.207277</td>\n      <td>0.198263</td>\n      <td>-0.344029</td>\n    </tr>\n    <tr>\n      <th>cp bin</th>\n      <td>-0.138253</td>\n      <td>-0.089621</td>\n      <td>0.887256</td>\n      <td>-0.021447</td>\n      <td>-0.070684</td>\n      <td>0.060190</td>\n      <td>0.094591</td>\n      <td>0.376561</td>\n      <td>-0.469061</td>\n      <td>-0.280243</td>\n      <td>0.216056</td>\n      <td>-0.218226</td>\n      <td>-0.207277</td>\n      <td>1.000000</td>\n      <td>-0.293763</td>\n      <td>0.516015</td>\n    </tr>\n    <tr>\n      <th>oldpeak around</th>\n      <td>0.178396</td>\n      <td>0.089604</td>\n      <td>-0.180783</td>\n      <td>0.190276</td>\n      <td>0.035479</td>\n      <td>0.022088</td>\n      <td>-0.055906</td>\n      <td>-0.327627</td>\n      <td>0.271144</td>\n      <td>0.966965</td>\n      <td>-0.555175</td>\n      <td>0.232167</td>\n      <td>0.198263</td>\n      <td>-0.293763</td>\n      <td>1.000000</td>\n      <td>-0.423572</td>\n    </tr>\n    <tr>\n      <th>target</th>\n      <td>-0.225439</td>\n      <td>-0.280937</td>\n      <td>0.433798</td>\n      <td>-0.144931</td>\n      <td>-0.085239</td>\n      <td>-0.028046</td>\n      <td>0.137230</td>\n      <td>0.421741</td>\n      <td>-0.436757</td>\n      <td>-0.430696</td>\n      <td>0.345877</td>\n      <td>-0.391724</td>\n      <td>-0.344029</td>\n      <td>0.516015</td>\n      <td>-0.423572</td>\n      <td>1.000000</td>\n    </tr>\n  </tbody>\n</table>\n</div>"
     },
     "metadata": {},
     "execution_count": 281
    }
   ],
   "source": [
    "df[\"cp bin\"] = df.apply (lambda row: binarize(row, \"cp\"), axis=1)\n",
    "df[\"oldpeak around\"] = df.apply (lambda row: around(row, \"oldpeak\"), axis=1)\n",
    "\n",
    "#mantém target na última coluna\n",
    "df[\"target\"] = df.pop(\"target\")\n",
    "\n",
    "df.corr()"
   ]
  },
  {
   "cell_type": "code",
   "execution_count": 285,
   "metadata": {},
   "outputs": [
    {
     "output_type": "stream",
     "name": "stdout",
     "text": [
      " KNN \n",
      "              precision    recall  f1-score   support\n",
      "\n",
      "           0       0.75      0.67      0.71        27\n",
      "           1       0.76      0.82      0.79        34\n",
      "\n",
      "    accuracy                           0.75        61\n",
      "   macro avg       0.75      0.75      0.75        61\n",
      "weighted avg       0.75      0.75      0.75        61\n",
      "\n",
      "\n",
      "Naive Bayes\n",
      "              precision    recall  f1-score   support\n",
      "\n",
      "           0       0.78      0.78      0.78        27\n",
      "           1       0.82      0.82      0.82        34\n",
      "\n",
      "    accuracy                           0.80        61\n",
      "   macro avg       0.80      0.80      0.80        61\n",
      "weighted avg       0.80      0.80      0.80        61\n",
      "\n",
      "\n",
      "Árvore de Decisão\n",
      "              precision    recall  f1-score   support\n",
      "\n",
      "           0       0.70      0.59      0.64        27\n",
      "           1       0.71      0.79      0.75        34\n",
      "\n",
      "    accuracy                           0.70        61\n",
      "   macro avg       0.70      0.69      0.69        61\n",
      "weighted avg       0.70      0.70      0.70        61\n",
      "\n",
      "MLP\n",
      "              precision    recall  f1-score   support\n",
      "\n",
      "           0       0.88      0.78      0.82        27\n",
      "           1       0.84      0.91      0.87        34\n",
      "\n",
      "    accuracy                           0.85        61\n",
      "   macro avg       0.86      0.84      0.85        61\n",
      "weighted avg       0.85      0.85      0.85        61\n",
      "\n"
     ]
    }
   ],
   "source": [
    "runModels([\"cp bin\", \"thalach\", \"exang\", \"oldpeak\"])"
   ]
  },
  {
   "source": [
    "Utilizando então de técnicas de arredondamento e binarização para tentar obter melhores resultados, podemos observar que o MLP melhorou bastante suas previsões, apesar dos outros métodos manterem na mesma casa entre 70 e 80% de precisão para os targets."
   ],
   "cell_type": "markdown",
   "metadata": {}
  }
 ]
}