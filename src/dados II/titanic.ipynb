{
 "cells": [
  {
   "cell_type": "code",
   "execution_count": 26,
   "metadata": {},
   "outputs": [],
   "source": [
    "import pandas as pd\n",
    "import numpy as np"
   ]
  },
  {
   "cell_type": "code",
   "execution_count": 27,
   "metadata": {},
   "outputs": [
    {
     "output_type": "execute_result",
     "data": {
      "text/plain": [
       "     PassengerId  Survived\n",
       "0            892         0\n",
       "1            893         1\n",
       "2            894         0\n",
       "3            895         0\n",
       "4            896         1\n",
       "..           ...       ...\n",
       "413         1305         0\n",
       "414         1306         1\n",
       "415         1307         0\n",
       "416         1308         0\n",
       "417         1309         0\n",
       "\n",
       "[418 rows x 2 columns]"
      ],
      "text/html": "<div>\n<style scoped>\n    .dataframe tbody tr th:only-of-type {\n        vertical-align: middle;\n    }\n\n    .dataframe tbody tr th {\n        vertical-align: top;\n    }\n\n    .dataframe thead th {\n        text-align: right;\n    }\n</style>\n<table border=\"1\" class=\"dataframe\">\n  <thead>\n    <tr style=\"text-align: right;\">\n      <th></th>\n      <th>PassengerId</th>\n      <th>Survived</th>\n    </tr>\n  </thead>\n  <tbody>\n    <tr>\n      <th>0</th>\n      <td>892</td>\n      <td>0</td>\n    </tr>\n    <tr>\n      <th>1</th>\n      <td>893</td>\n      <td>1</td>\n    </tr>\n    <tr>\n      <th>2</th>\n      <td>894</td>\n      <td>0</td>\n    </tr>\n    <tr>\n      <th>3</th>\n      <td>895</td>\n      <td>0</td>\n    </tr>\n    <tr>\n      <th>4</th>\n      <td>896</td>\n      <td>1</td>\n    </tr>\n    <tr>\n      <th>...</th>\n      <td>...</td>\n      <td>...</td>\n    </tr>\n    <tr>\n      <th>413</th>\n      <td>1305</td>\n      <td>0</td>\n    </tr>\n    <tr>\n      <th>414</th>\n      <td>1306</td>\n      <td>1</td>\n    </tr>\n    <tr>\n      <th>415</th>\n      <td>1307</td>\n      <td>0</td>\n    </tr>\n    <tr>\n      <th>416</th>\n      <td>1308</td>\n      <td>0</td>\n    </tr>\n    <tr>\n      <th>417</th>\n      <td>1309</td>\n      <td>0</td>\n    </tr>\n  </tbody>\n</table>\n<p>418 rows × 2 columns</p>\n</div>"
     },
     "metadata": {},
     "execution_count": 27
    }
   ],
   "source": [
    "gender = pd.read_csv('titanic/gender_submission.csv', index_col=False, squeeze=True)\n",
    "gender.dropna()"
   ]
  },
  {
   "cell_type": "code",
   "execution_count": 28,
   "metadata": {},
   "outputs": [],
   "source": [
    "train = pd.read_csv('titanic/train.csv', index_col=False, squeeze=True)\n",
    "\n",
    "#realiza leitura e já remove linhas com valores NaN\n",
    "train = train.dropna()"
   ]
  },
  {
   "cell_type": "code",
   "execution_count": 29,
   "metadata": {},
   "outputs": [
    {
     "output_type": "execute_result",
     "data": {
      "text/plain": [
       "             PassengerId  Survived    Pclass       Age     SibSp     Parch  \\\n",
       "PassengerId     1.000000  0.148495 -0.089136  0.030933 -0.083488 -0.051454   \n",
       "Survived        0.148495  1.000000 -0.034542 -0.254085  0.106346  0.023582   \n",
       "Pclass         -0.089136 -0.034542  1.000000 -0.306514 -0.103592  0.047496   \n",
       "Age             0.030933 -0.254085 -0.306514  1.000000 -0.156162 -0.271271   \n",
       "SibSp          -0.083488  0.106346 -0.103592 -0.156162  1.000000  0.255346   \n",
       "Parch          -0.051454  0.023582  0.047496 -0.271271  0.255346  1.000000   \n",
       "Fare            0.029740  0.134241 -0.315235 -0.092424  0.286433  0.389740   \n",
       "\n",
       "                 Fare  \n",
       "PassengerId  0.029740  \n",
       "Survived     0.134241  \n",
       "Pclass      -0.315235  \n",
       "Age         -0.092424  \n",
       "SibSp        0.286433  \n",
       "Parch        0.389740  \n",
       "Fare         1.000000  "
      ],
      "text/html": "<div>\n<style scoped>\n    .dataframe tbody tr th:only-of-type {\n        vertical-align: middle;\n    }\n\n    .dataframe tbody tr th {\n        vertical-align: top;\n    }\n\n    .dataframe thead th {\n        text-align: right;\n    }\n</style>\n<table border=\"1\" class=\"dataframe\">\n  <thead>\n    <tr style=\"text-align: right;\">\n      <th></th>\n      <th>PassengerId</th>\n      <th>Survived</th>\n      <th>Pclass</th>\n      <th>Age</th>\n      <th>SibSp</th>\n      <th>Parch</th>\n      <th>Fare</th>\n    </tr>\n  </thead>\n  <tbody>\n    <tr>\n      <th>PassengerId</th>\n      <td>1.000000</td>\n      <td>0.148495</td>\n      <td>-0.089136</td>\n      <td>0.030933</td>\n      <td>-0.083488</td>\n      <td>-0.051454</td>\n      <td>0.029740</td>\n    </tr>\n    <tr>\n      <th>Survived</th>\n      <td>0.148495</td>\n      <td>1.000000</td>\n      <td>-0.034542</td>\n      <td>-0.254085</td>\n      <td>0.106346</td>\n      <td>0.023582</td>\n      <td>0.134241</td>\n    </tr>\n    <tr>\n      <th>Pclass</th>\n      <td>-0.089136</td>\n      <td>-0.034542</td>\n      <td>1.000000</td>\n      <td>-0.306514</td>\n      <td>-0.103592</td>\n      <td>0.047496</td>\n      <td>-0.315235</td>\n    </tr>\n    <tr>\n      <th>Age</th>\n      <td>0.030933</td>\n      <td>-0.254085</td>\n      <td>-0.306514</td>\n      <td>1.000000</td>\n      <td>-0.156162</td>\n      <td>-0.271271</td>\n      <td>-0.092424</td>\n    </tr>\n    <tr>\n      <th>SibSp</th>\n      <td>-0.083488</td>\n      <td>0.106346</td>\n      <td>-0.103592</td>\n      <td>-0.156162</td>\n      <td>1.000000</td>\n      <td>0.255346</td>\n      <td>0.286433</td>\n    </tr>\n    <tr>\n      <th>Parch</th>\n      <td>-0.051454</td>\n      <td>0.023582</td>\n      <td>0.047496</td>\n      <td>-0.271271</td>\n      <td>0.255346</td>\n      <td>1.000000</td>\n      <td>0.389740</td>\n    </tr>\n    <tr>\n      <th>Fare</th>\n      <td>0.029740</td>\n      <td>0.134241</td>\n      <td>-0.315235</td>\n      <td>-0.092424</td>\n      <td>0.286433</td>\n      <td>0.389740</td>\n      <td>1.000000</td>\n    </tr>\n  </tbody>\n</table>\n</div>"
     },
     "metadata": {},
     "execution_count": 29
    }
   ],
   "source": [
    "#printando então a matriz de correlação, notamos que o atributo \"Fare\" tem uma boa correlação com\n",
    "#os membros sobreviventes, vamos explorar melhor\n",
    "train[[\"PassengerId\", \"Survived\", \"Pclass\", \"Age\", 'SibSp', \"Parch\", \"Fare\"]].corr()"
   ]
  },
  {
   "cell_type": "code",
   "execution_count": 30,
   "metadata": {},
   "outputs": [
    {
     "output_type": "execute_result",
     "data": {
      "text/plain": [
       "     PassengerId  Survived  Pclass  \\\n",
       "1              2         1       1   \n",
       "3              4         1       1   \n",
       "6              7         0       1   \n",
       "10            11         1       3   \n",
       "11            12         1       1   \n",
       "..           ...       ...     ...   \n",
       "871          872         1       1   \n",
       "872          873         0       1   \n",
       "879          880         1       1   \n",
       "887          888         1       1   \n",
       "889          890         1       1   \n",
       "\n",
       "                                                  Name  Sex   Age  SibSp  \\\n",
       "1    Cumings, Mrs. John Bradley (Florence Briggs Th...    0  38.0      1   \n",
       "3         Futrelle, Mrs. Jacques Heath (Lily May Peel)    0  35.0      1   \n",
       "6                              McCarthy, Mr. Timothy J    1  54.0      0   \n",
       "10                     Sandstrom, Miss. Marguerite Rut    0   4.0      1   \n",
       "11                            Bonnell, Miss. Elizabeth    0  58.0      0   \n",
       "..                                                 ...  ...   ...    ...   \n",
       "871   Beckwith, Mrs. Richard Leonard (Sallie Monypeny)    0  47.0      1   \n",
       "872                           Carlsson, Mr. Frans Olof    1  33.0      0   \n",
       "879      Potter, Mrs. Thomas Jr (Lily Alexenia Wilson)    0  56.0      0   \n",
       "887                       Graham, Miss. Margaret Edith    0  19.0      0   \n",
       "889                              Behr, Mr. Karl Howell    1  26.0      0   \n",
       "\n",
       "     Parch    Ticket     Fare        Cabin  Embarked  \n",
       "1        0  PC 17599  71.2833          C85         0  \n",
       "3        0    113803  53.1000         C123         1  \n",
       "6        0     17463  51.8625          E46         1  \n",
       "10       1   PP 9549  16.7000           G6         1  \n",
       "11       0    113783  26.5500         C103         1  \n",
       "..     ...       ...      ...          ...       ...  \n",
       "871      1     11751  52.5542          D35         1  \n",
       "872      0       695   5.0000  B51 B53 B55         1  \n",
       "879      1     11767  83.1583          C50         0  \n",
       "887      0    112053  30.0000          B42         1  \n",
       "889      0    111369  30.0000         C148         0  \n",
       "\n",
       "[183 rows x 12 columns]"
      ],
      "text/html": "<div>\n<style scoped>\n    .dataframe tbody tr th:only-of-type {\n        vertical-align: middle;\n    }\n\n    .dataframe tbody tr th {\n        vertical-align: top;\n    }\n\n    .dataframe thead th {\n        text-align: right;\n    }\n</style>\n<table border=\"1\" class=\"dataframe\">\n  <thead>\n    <tr style=\"text-align: right;\">\n      <th></th>\n      <th>PassengerId</th>\n      <th>Survived</th>\n      <th>Pclass</th>\n      <th>Name</th>\n      <th>Sex</th>\n      <th>Age</th>\n      <th>SibSp</th>\n      <th>Parch</th>\n      <th>Ticket</th>\n      <th>Fare</th>\n      <th>Cabin</th>\n      <th>Embarked</th>\n    </tr>\n  </thead>\n  <tbody>\n    <tr>\n      <th>1</th>\n      <td>2</td>\n      <td>1</td>\n      <td>1</td>\n      <td>Cumings, Mrs. John Bradley (Florence Briggs Th...</td>\n      <td>0</td>\n      <td>38.0</td>\n      <td>1</td>\n      <td>0</td>\n      <td>PC 17599</td>\n      <td>71.2833</td>\n      <td>C85</td>\n      <td>0</td>\n    </tr>\n    <tr>\n      <th>3</th>\n      <td>4</td>\n      <td>1</td>\n      <td>1</td>\n      <td>Futrelle, Mrs. Jacques Heath (Lily May Peel)</td>\n      <td>0</td>\n      <td>35.0</td>\n      <td>1</td>\n      <td>0</td>\n      <td>113803</td>\n      <td>53.1000</td>\n      <td>C123</td>\n      <td>1</td>\n    </tr>\n    <tr>\n      <th>6</th>\n      <td>7</td>\n      <td>0</td>\n      <td>1</td>\n      <td>McCarthy, Mr. Timothy J</td>\n      <td>1</td>\n      <td>54.0</td>\n      <td>0</td>\n      <td>0</td>\n      <td>17463</td>\n      <td>51.8625</td>\n      <td>E46</td>\n      <td>1</td>\n    </tr>\n    <tr>\n      <th>10</th>\n      <td>11</td>\n      <td>1</td>\n      <td>3</td>\n      <td>Sandstrom, Miss. Marguerite Rut</td>\n      <td>0</td>\n      <td>4.0</td>\n      <td>1</td>\n      <td>1</td>\n      <td>PP 9549</td>\n      <td>16.7000</td>\n      <td>G6</td>\n      <td>1</td>\n    </tr>\n    <tr>\n      <th>11</th>\n      <td>12</td>\n      <td>1</td>\n      <td>1</td>\n      <td>Bonnell, Miss. Elizabeth</td>\n      <td>0</td>\n      <td>58.0</td>\n      <td>0</td>\n      <td>0</td>\n      <td>113783</td>\n      <td>26.5500</td>\n      <td>C103</td>\n      <td>1</td>\n    </tr>\n    <tr>\n      <th>...</th>\n      <td>...</td>\n      <td>...</td>\n      <td>...</td>\n      <td>...</td>\n      <td>...</td>\n      <td>...</td>\n      <td>...</td>\n      <td>...</td>\n      <td>...</td>\n      <td>...</td>\n      <td>...</td>\n      <td>...</td>\n    </tr>\n    <tr>\n      <th>871</th>\n      <td>872</td>\n      <td>1</td>\n      <td>1</td>\n      <td>Beckwith, Mrs. Richard Leonard (Sallie Monypeny)</td>\n      <td>0</td>\n      <td>47.0</td>\n      <td>1</td>\n      <td>1</td>\n      <td>11751</td>\n      <td>52.5542</td>\n      <td>D35</td>\n      <td>1</td>\n    </tr>\n    <tr>\n      <th>872</th>\n      <td>873</td>\n      <td>0</td>\n      <td>1</td>\n      <td>Carlsson, Mr. Frans Olof</td>\n      <td>1</td>\n      <td>33.0</td>\n      <td>0</td>\n      <td>0</td>\n      <td>695</td>\n      <td>5.0000</td>\n      <td>B51 B53 B55</td>\n      <td>1</td>\n    </tr>\n    <tr>\n      <th>879</th>\n      <td>880</td>\n      <td>1</td>\n      <td>1</td>\n      <td>Potter, Mrs. Thomas Jr (Lily Alexenia Wilson)</td>\n      <td>0</td>\n      <td>56.0</td>\n      <td>0</td>\n      <td>1</td>\n      <td>11767</td>\n      <td>83.1583</td>\n      <td>C50</td>\n      <td>0</td>\n    </tr>\n    <tr>\n      <th>887</th>\n      <td>888</td>\n      <td>1</td>\n      <td>1</td>\n      <td>Graham, Miss. Margaret Edith</td>\n      <td>0</td>\n      <td>19.0</td>\n      <td>0</td>\n      <td>0</td>\n      <td>112053</td>\n      <td>30.0000</td>\n      <td>B42</td>\n      <td>1</td>\n    </tr>\n    <tr>\n      <th>889</th>\n      <td>890</td>\n      <td>1</td>\n      <td>1</td>\n      <td>Behr, Mr. Karl Howell</td>\n      <td>1</td>\n      <td>26.0</td>\n      <td>0</td>\n      <td>0</td>\n      <td>111369</td>\n      <td>30.0000</td>\n      <td>C148</td>\n      <td>0</td>\n    </tr>\n  </tbody>\n</table>\n<p>183 rows × 12 columns</p>\n</div>"
     },
     "metadata": {},
     "execution_count": 30
    }
   ],
   "source": [
    "def toNumerical(df, attr):\n",
    "    return pd.factorize(df[attr])[0]\n",
    "\n",
    "#converte alguns atributos categóricos para numéricos para análise de correlação\n",
    "train['Sex'] = toNumerical(train, 'Sex')\n",
    "train['Embarked'] = toNumerical(train, 'Embarked')\n",
    "train"
   ]
  },
  {
   "cell_type": "code",
   "execution_count": 31,
   "metadata": {},
   "outputs": [
    {
     "output_type": "execute_result",
     "data": {
      "text/plain": [
       "             PassengerId  Survived       Age     SibSp      Fare       Sex  \\\n",
       "PassengerId     1.000000  0.148495  0.030933 -0.083488  0.029740 -0.025205   \n",
       "Survived        0.148495  1.000000 -0.254085  0.106346  0.134241 -0.532418   \n",
       "Age             0.030933 -0.254085  1.000000 -0.156162 -0.092424  0.184969   \n",
       "SibSp          -0.083488  0.106346 -0.156162  1.000000  0.286433 -0.104291   \n",
       "Fare            0.029740  0.134241 -0.092424  0.286433  1.000000 -0.130433   \n",
       "Sex            -0.025205 -0.532418  0.184969 -0.104291 -0.130433  1.000000   \n",
       "Embarked        0.021576 -0.108914 -0.077790  0.089959 -0.227926  0.059453   \n",
       "\n",
       "             Embarked  \n",
       "PassengerId  0.021576  \n",
       "Survived    -0.108914  \n",
       "Age         -0.077790  \n",
       "SibSp        0.089959  \n",
       "Fare        -0.227926  \n",
       "Sex          0.059453  \n",
       "Embarked     1.000000  "
      ],
      "text/html": "<div>\n<style scoped>\n    .dataframe tbody tr th:only-of-type {\n        vertical-align: middle;\n    }\n\n    .dataframe tbody tr th {\n        vertical-align: top;\n    }\n\n    .dataframe thead th {\n        text-align: right;\n    }\n</style>\n<table border=\"1\" class=\"dataframe\">\n  <thead>\n    <tr style=\"text-align: right;\">\n      <th></th>\n      <th>PassengerId</th>\n      <th>Survived</th>\n      <th>Age</th>\n      <th>SibSp</th>\n      <th>Fare</th>\n      <th>Sex</th>\n      <th>Embarked</th>\n    </tr>\n  </thead>\n  <tbody>\n    <tr>\n      <th>PassengerId</th>\n      <td>1.000000</td>\n      <td>0.148495</td>\n      <td>0.030933</td>\n      <td>-0.083488</td>\n      <td>0.029740</td>\n      <td>-0.025205</td>\n      <td>0.021576</td>\n    </tr>\n    <tr>\n      <th>Survived</th>\n      <td>0.148495</td>\n      <td>1.000000</td>\n      <td>-0.254085</td>\n      <td>0.106346</td>\n      <td>0.134241</td>\n      <td>-0.532418</td>\n      <td>-0.108914</td>\n    </tr>\n    <tr>\n      <th>Age</th>\n      <td>0.030933</td>\n      <td>-0.254085</td>\n      <td>1.000000</td>\n      <td>-0.156162</td>\n      <td>-0.092424</td>\n      <td>0.184969</td>\n      <td>-0.077790</td>\n    </tr>\n    <tr>\n      <th>SibSp</th>\n      <td>-0.083488</td>\n      <td>0.106346</td>\n      <td>-0.156162</td>\n      <td>1.000000</td>\n      <td>0.286433</td>\n      <td>-0.104291</td>\n      <td>0.089959</td>\n    </tr>\n    <tr>\n      <th>Fare</th>\n      <td>0.029740</td>\n      <td>0.134241</td>\n      <td>-0.092424</td>\n      <td>0.286433</td>\n      <td>1.000000</td>\n      <td>-0.130433</td>\n      <td>-0.227926</td>\n    </tr>\n    <tr>\n      <th>Sex</th>\n      <td>-0.025205</td>\n      <td>-0.532418</td>\n      <td>0.184969</td>\n      <td>-0.104291</td>\n      <td>-0.130433</td>\n      <td>1.000000</td>\n      <td>0.059453</td>\n    </tr>\n    <tr>\n      <th>Embarked</th>\n      <td>0.021576</td>\n      <td>-0.108914</td>\n      <td>-0.077790</td>\n      <td>0.089959</td>\n      <td>-0.227926</td>\n      <td>0.059453</td>\n      <td>1.000000</td>\n    </tr>\n  </tbody>\n</table>\n</div>"
     },
     "metadata": {},
     "execution_count": 31
    }
   ],
   "source": [
    "#podemos notar claramente que o sexo é um fator que pode ser bastante útil para identificar a sobrevivência\n",
    "#isso, olhando para as correlações. Vamos tentar identificar outras informações do dataset\n",
    "train[[\"PassengerId\", \"Survived\", \"Age\", 'SibSp', \"Fare\", \"Sex\", \"Embarked\"]].corr()"
   ]
  },
  {
   "cell_type": "code",
   "execution_count": 33,
   "metadata": {},
   "outputs": [
    {
     "output_type": "execute_result",
     "data": {
      "text/plain": [
       "Survived\n",
       "0     60\n",
       "1    123\n",
       "Name: Survived, dtype: int64"
      ]
     },
     "metadata": {},
     "execution_count": 33
    }
   ],
   "source": [
    "#podemos notar então, que no dataset, temos 60 mortos e 123 sobreviventes\n",
    "train.groupby(\"Survived\")[\"Survived\"].count()"
   ]
  },
  {
   "cell_type": "code",
   "execution_count": 51,
   "metadata": {},
   "outputs": [
    {
     "output_type": "execute_result",
     "data": {
      "text/plain": [
       "       PassengerId    Survived      Pclass         Sex         Age  \\\n",
       "count   183.000000  183.000000  183.000000  183.000000  183.000000   \n",
       "mean    455.366120    0.672131    1.191257    0.519126   35.674426   \n",
       "std     247.052476    0.470725    0.515187    0.501005   15.643866   \n",
       "min       2.000000    0.000000    1.000000    0.000000    0.920000   \n",
       "25%     263.500000    0.000000    1.000000    0.000000   24.000000   \n",
       "50%     457.000000    1.000000    1.000000    1.000000   36.000000   \n",
       "75%     676.000000    1.000000    1.000000    1.000000   47.500000   \n",
       "max     890.000000    1.000000    3.000000    1.000000   80.000000   \n",
       "\n",
       "            SibSp       Parch        Fare    Embarked   FareGroup  \n",
       "count  183.000000  183.000000  183.000000  183.000000  183.000000  \n",
       "mean     0.464481    0.475410   78.682469    0.655738    0.704918  \n",
       "std      0.644159    0.754617   76.347843    0.498963    1.104600  \n",
       "min      0.000000    0.000000    0.000000    0.000000    0.000000  \n",
       "25%      0.000000    0.000000   29.700000    0.000000    0.000000  \n",
       "50%      0.000000    0.000000   57.000000    1.000000    0.000000  \n",
       "75%      1.000000    1.000000   90.000000    1.000000    1.000000  \n",
       "max      3.000000    4.000000  512.329200    2.000000    7.000000  "
      ],
      "text/html": "<div>\n<style scoped>\n    .dataframe tbody tr th:only-of-type {\n        vertical-align: middle;\n    }\n\n    .dataframe tbody tr th {\n        vertical-align: top;\n    }\n\n    .dataframe thead th {\n        text-align: right;\n    }\n</style>\n<table border=\"1\" class=\"dataframe\">\n  <thead>\n    <tr style=\"text-align: right;\">\n      <th></th>\n      <th>PassengerId</th>\n      <th>Survived</th>\n      <th>Pclass</th>\n      <th>Sex</th>\n      <th>Age</th>\n      <th>SibSp</th>\n      <th>Parch</th>\n      <th>Fare</th>\n      <th>Embarked</th>\n      <th>FareGroup</th>\n    </tr>\n  </thead>\n  <tbody>\n    <tr>\n      <th>count</th>\n      <td>183.000000</td>\n      <td>183.000000</td>\n      <td>183.000000</td>\n      <td>183.000000</td>\n      <td>183.000000</td>\n      <td>183.000000</td>\n      <td>183.000000</td>\n      <td>183.000000</td>\n      <td>183.000000</td>\n      <td>183.000000</td>\n    </tr>\n    <tr>\n      <th>mean</th>\n      <td>455.366120</td>\n      <td>0.672131</td>\n      <td>1.191257</td>\n      <td>0.519126</td>\n      <td>35.674426</td>\n      <td>0.464481</td>\n      <td>0.475410</td>\n      <td>78.682469</td>\n      <td>0.655738</td>\n      <td>0.704918</td>\n    </tr>\n    <tr>\n      <th>std</th>\n      <td>247.052476</td>\n      <td>0.470725</td>\n      <td>0.515187</td>\n      <td>0.501005</td>\n      <td>15.643866</td>\n      <td>0.644159</td>\n      <td>0.754617</td>\n      <td>76.347843</td>\n      <td>0.498963</td>\n      <td>1.104600</td>\n    </tr>\n    <tr>\n      <th>min</th>\n      <td>2.000000</td>\n      <td>0.000000</td>\n      <td>1.000000</td>\n      <td>0.000000</td>\n      <td>0.920000</td>\n      <td>0.000000</td>\n      <td>0.000000</td>\n      <td>0.000000</td>\n      <td>0.000000</td>\n      <td>0.000000</td>\n    </tr>\n    <tr>\n      <th>25%</th>\n      <td>263.500000</td>\n      <td>0.000000</td>\n      <td>1.000000</td>\n      <td>0.000000</td>\n      <td>24.000000</td>\n      <td>0.000000</td>\n      <td>0.000000</td>\n      <td>29.700000</td>\n      <td>0.000000</td>\n      <td>0.000000</td>\n    </tr>\n    <tr>\n      <th>50%</th>\n      <td>457.000000</td>\n      <td>1.000000</td>\n      <td>1.000000</td>\n      <td>1.000000</td>\n      <td>36.000000</td>\n      <td>0.000000</td>\n      <td>0.000000</td>\n      <td>57.000000</td>\n      <td>1.000000</td>\n      <td>0.000000</td>\n    </tr>\n    <tr>\n      <th>75%</th>\n      <td>676.000000</td>\n      <td>1.000000</td>\n      <td>1.000000</td>\n      <td>1.000000</td>\n      <td>47.500000</td>\n      <td>1.000000</td>\n      <td>1.000000</td>\n      <td>90.000000</td>\n      <td>1.000000</td>\n      <td>1.000000</td>\n    </tr>\n    <tr>\n      <th>max</th>\n      <td>890.000000</td>\n      <td>1.000000</td>\n      <td>3.000000</td>\n      <td>1.000000</td>\n      <td>80.000000</td>\n      <td>3.000000</td>\n      <td>4.000000</td>\n      <td>512.329200</td>\n      <td>2.000000</td>\n      <td>7.000000</td>\n    </tr>\n  </tbody>\n</table>\n</div>"
     },
     "metadata": {},
     "execution_count": 51
    }
   ],
   "source": [
    "#olhando agora para o atributo Passagem\n",
    "train.describe()"
   ]
  },
  {
   "cell_type": "code",
   "execution_count": 47,
   "metadata": {},
   "outputs": [
    {
     "output_type": "execute_result",
     "data": {
      "text/plain": [
       "     PassengerId  Survived  Pclass  \\\n",
       "1              2         1       1   \n",
       "3              4         1       1   \n",
       "6              7         0       1   \n",
       "10            11         1       3   \n",
       "11            12         1       1   \n",
       "..           ...       ...     ...   \n",
       "871          872         1       1   \n",
       "872          873         0       1   \n",
       "879          880         1       1   \n",
       "887          888         1       1   \n",
       "889          890         1       1   \n",
       "\n",
       "                                                  Name  Sex   Age  SibSp  \\\n",
       "1    Cumings, Mrs. John Bradley (Florence Briggs Th...    0  38.0      1   \n",
       "3         Futrelle, Mrs. Jacques Heath (Lily May Peel)    0  35.0      1   \n",
       "6                              McCarthy, Mr. Timothy J    1  54.0      0   \n",
       "10                     Sandstrom, Miss. Marguerite Rut    0   4.0      1   \n",
       "11                            Bonnell, Miss. Elizabeth    0  58.0      0   \n",
       "..                                                 ...  ...   ...    ...   \n",
       "871   Beckwith, Mrs. Richard Leonard (Sallie Monypeny)    0  47.0      1   \n",
       "872                           Carlsson, Mr. Frans Olof    1  33.0      0   \n",
       "879      Potter, Mrs. Thomas Jr (Lily Alexenia Wilson)    0  56.0      0   \n",
       "887                       Graham, Miss. Margaret Edith    0  19.0      0   \n",
       "889                              Behr, Mr. Karl Howell    1  26.0      0   \n",
       "\n",
       "     Parch    Ticket     Fare        Cabin  Embarked  FareGroup  \n",
       "1        0  PC 17599  71.2833          C85         0          1  \n",
       "3        0    113803  53.1000         C123         1          0  \n",
       "6        0     17463  51.8625          E46         1          0  \n",
       "10       1   PP 9549  16.7000           G6         1          0  \n",
       "11       0    113783  26.5500         C103         1          0  \n",
       "..     ...       ...      ...          ...       ...        ...  \n",
       "871      1     11751  52.5542          D35         1          0  \n",
       "872      0       695   5.0000  B51 B53 B55         1          0  \n",
       "879      1     11767  83.1583          C50         0          1  \n",
       "887      0    112053  30.0000          B42         1          0  \n",
       "889      0    111369  30.0000         C148         0          0  \n",
       "\n",
       "[183 rows x 13 columns]"
      ],
      "text/html": "<div>\n<style scoped>\n    .dataframe tbody tr th:only-of-type {\n        vertical-align: middle;\n    }\n\n    .dataframe tbody tr th {\n        vertical-align: top;\n    }\n\n    .dataframe thead th {\n        text-align: right;\n    }\n</style>\n<table border=\"1\" class=\"dataframe\">\n  <thead>\n    <tr style=\"text-align: right;\">\n      <th></th>\n      <th>PassengerId</th>\n      <th>Survived</th>\n      <th>Pclass</th>\n      <th>Name</th>\n      <th>Sex</th>\n      <th>Age</th>\n      <th>SibSp</th>\n      <th>Parch</th>\n      <th>Ticket</th>\n      <th>Fare</th>\n      <th>Cabin</th>\n      <th>Embarked</th>\n      <th>FareGroup</th>\n    </tr>\n  </thead>\n  <tbody>\n    <tr>\n      <th>1</th>\n      <td>2</td>\n      <td>1</td>\n      <td>1</td>\n      <td>Cumings, Mrs. John Bradley (Florence Briggs Th...</td>\n      <td>0</td>\n      <td>38.0</td>\n      <td>1</td>\n      <td>0</td>\n      <td>PC 17599</td>\n      <td>71.2833</td>\n      <td>C85</td>\n      <td>0</td>\n      <td>1</td>\n    </tr>\n    <tr>\n      <th>3</th>\n      <td>4</td>\n      <td>1</td>\n      <td>1</td>\n      <td>Futrelle, Mrs. Jacques Heath (Lily May Peel)</td>\n      <td>0</td>\n      <td>35.0</td>\n      <td>1</td>\n      <td>0</td>\n      <td>113803</td>\n      <td>53.1000</td>\n      <td>C123</td>\n      <td>1</td>\n      <td>0</td>\n    </tr>\n    <tr>\n      <th>6</th>\n      <td>7</td>\n      <td>0</td>\n      <td>1</td>\n      <td>McCarthy, Mr. Timothy J</td>\n      <td>1</td>\n      <td>54.0</td>\n      <td>0</td>\n      <td>0</td>\n      <td>17463</td>\n      <td>51.8625</td>\n      <td>E46</td>\n      <td>1</td>\n      <td>0</td>\n    </tr>\n    <tr>\n      <th>10</th>\n      <td>11</td>\n      <td>1</td>\n      <td>3</td>\n      <td>Sandstrom, Miss. Marguerite Rut</td>\n      <td>0</td>\n      <td>4.0</td>\n      <td>1</td>\n      <td>1</td>\n      <td>PP 9549</td>\n      <td>16.7000</td>\n      <td>G6</td>\n      <td>1</td>\n      <td>0</td>\n    </tr>\n    <tr>\n      <th>11</th>\n      <td>12</td>\n      <td>1</td>\n      <td>1</td>\n      <td>Bonnell, Miss. Elizabeth</td>\n      <td>0</td>\n      <td>58.0</td>\n      <td>0</td>\n      <td>0</td>\n      <td>113783</td>\n      <td>26.5500</td>\n      <td>C103</td>\n      <td>1</td>\n      <td>0</td>\n    </tr>\n    <tr>\n      <th>...</th>\n      <td>...</td>\n      <td>...</td>\n      <td>...</td>\n      <td>...</td>\n      <td>...</td>\n      <td>...</td>\n      <td>...</td>\n      <td>...</td>\n      <td>...</td>\n      <td>...</td>\n      <td>...</td>\n      <td>...</td>\n      <td>...</td>\n    </tr>\n    <tr>\n      <th>871</th>\n      <td>872</td>\n      <td>1</td>\n      <td>1</td>\n      <td>Beckwith, Mrs. Richard Leonard (Sallie Monypeny)</td>\n      <td>0</td>\n      <td>47.0</td>\n      <td>1</td>\n      <td>1</td>\n      <td>11751</td>\n      <td>52.5542</td>\n      <td>D35</td>\n      <td>1</td>\n      <td>0</td>\n    </tr>\n    <tr>\n      <th>872</th>\n      <td>873</td>\n      <td>0</td>\n      <td>1</td>\n      <td>Carlsson, Mr. Frans Olof</td>\n      <td>1</td>\n      <td>33.0</td>\n      <td>0</td>\n      <td>0</td>\n      <td>695</td>\n      <td>5.0000</td>\n      <td>B51 B53 B55</td>\n      <td>1</td>\n      <td>0</td>\n    </tr>\n    <tr>\n      <th>879</th>\n      <td>880</td>\n      <td>1</td>\n      <td>1</td>\n      <td>Potter, Mrs. Thomas Jr (Lily Alexenia Wilson)</td>\n      <td>0</td>\n      <td>56.0</td>\n      <td>0</td>\n      <td>1</td>\n      <td>11767</td>\n      <td>83.1583</td>\n      <td>C50</td>\n      <td>0</td>\n      <td>1</td>\n    </tr>\n    <tr>\n      <th>887</th>\n      <td>888</td>\n      <td>1</td>\n      <td>1</td>\n      <td>Graham, Miss. Margaret Edith</td>\n      <td>0</td>\n      <td>19.0</td>\n      <td>0</td>\n      <td>0</td>\n      <td>112053</td>\n      <td>30.0000</td>\n      <td>B42</td>\n      <td>1</td>\n      <td>0</td>\n    </tr>\n    <tr>\n      <th>889</th>\n      <td>890</td>\n      <td>1</td>\n      <td>1</td>\n      <td>Behr, Mr. Karl Howell</td>\n      <td>1</td>\n      <td>26.0</td>\n      <td>0</td>\n      <td>0</td>\n      <td>111369</td>\n      <td>30.0000</td>\n      <td>C148</td>\n      <td>0</td>\n      <td>0</td>\n    </tr>\n  </tbody>\n</table>\n<p>183 rows × 13 columns</p>\n</div>"
     },
     "metadata": {},
     "execution_count": 47
    }
   ],
   "source": [
    "#Como podemos perceber, pela média e desvio padrão, podemos dividir os atributos em grupos de \n",
    "#aproximadamente 70 em 70. Fazendo isso:\n",
    "\n",
    "def agroupFare(row):\n",
    "    fare = row[\"Fare\"]\n",
    "    if(fare < 70): \n",
    "        return 0\n",
    "    if(fare < 140):\n",
    "        return 1\n",
    "    if(fare < 210):\n",
    "        return 2\n",
    "    if(fare < 280):\n",
    "        return 3\n",
    "    if(fare < 350):\n",
    "        return 4\n",
    "    if(fare < 420):\n",
    "        return 5\n",
    "    if(fare < 500):\n",
    "        return 6\n",
    "    return 7\n",
    "\n",
    "train[\"FareGroup\"] = train.apply (lambda row: agroupFare(row), axis=1)\n",
    "train"
   ]
  },
  {
   "cell_type": "code",
   "execution_count": 50,
   "metadata": {},
   "outputs": [
    {
     "output_type": "execute_result",
     "data": {
      "text/plain": [
       "     PassengerId  Survived   Age  SibSp     Fare  FareGroup  Sex  Embarked\n",
       "1              2         1  38.0      1  71.2833          1    0         0\n",
       "3              4         1  35.0      1  53.1000          0    0         1\n",
       "6              7         0  54.0      0  51.8625          0    1         1\n",
       "10            11         1   4.0      1  16.7000          0    0         1\n",
       "11            12         1  58.0      0  26.5500          0    0         1\n",
       "..           ...       ...   ...    ...      ...        ...  ...       ...\n",
       "871          872         1  47.0      1  52.5542          0    0         1\n",
       "872          873         0  33.0      0   5.0000          0    1         1\n",
       "879          880         1  56.0      0  83.1583          1    0         0\n",
       "887          888         1  19.0      0  30.0000          0    0         1\n",
       "889          890         1  26.0      0  30.0000          0    1         0\n",
       "\n",
       "[183 rows x 8 columns]"
      ],
      "text/html": "<div>\n<style scoped>\n    .dataframe tbody tr th:only-of-type {\n        vertical-align: middle;\n    }\n\n    .dataframe tbody tr th {\n        vertical-align: top;\n    }\n\n    .dataframe thead th {\n        text-align: right;\n    }\n</style>\n<table border=\"1\" class=\"dataframe\">\n  <thead>\n    <tr style=\"text-align: right;\">\n      <th></th>\n      <th>PassengerId</th>\n      <th>Survived</th>\n      <th>Age</th>\n      <th>SibSp</th>\n      <th>Fare</th>\n      <th>FareGroup</th>\n      <th>Sex</th>\n      <th>Embarked</th>\n    </tr>\n  </thead>\n  <tbody>\n    <tr>\n      <th>1</th>\n      <td>2</td>\n      <td>1</td>\n      <td>38.0</td>\n      <td>1</td>\n      <td>71.2833</td>\n      <td>1</td>\n      <td>0</td>\n      <td>0</td>\n    </tr>\n    <tr>\n      <th>3</th>\n      <td>4</td>\n      <td>1</td>\n      <td>35.0</td>\n      <td>1</td>\n      <td>53.1000</td>\n      <td>0</td>\n      <td>0</td>\n      <td>1</td>\n    </tr>\n    <tr>\n      <th>6</th>\n      <td>7</td>\n      <td>0</td>\n      <td>54.0</td>\n      <td>0</td>\n      <td>51.8625</td>\n      <td>0</td>\n      <td>1</td>\n      <td>1</td>\n    </tr>\n    <tr>\n      <th>10</th>\n      <td>11</td>\n      <td>1</td>\n      <td>4.0</td>\n      <td>1</td>\n      <td>16.7000</td>\n      <td>0</td>\n      <td>0</td>\n      <td>1</td>\n    </tr>\n    <tr>\n      <th>11</th>\n      <td>12</td>\n      <td>1</td>\n      <td>58.0</td>\n      <td>0</td>\n      <td>26.5500</td>\n      <td>0</td>\n      <td>0</td>\n      <td>1</td>\n    </tr>\n    <tr>\n      <th>...</th>\n      <td>...</td>\n      <td>...</td>\n      <td>...</td>\n      <td>...</td>\n      <td>...</td>\n      <td>...</td>\n      <td>...</td>\n      <td>...</td>\n    </tr>\n    <tr>\n      <th>871</th>\n      <td>872</td>\n      <td>1</td>\n      <td>47.0</td>\n      <td>1</td>\n      <td>52.5542</td>\n      <td>0</td>\n      <td>0</td>\n      <td>1</td>\n    </tr>\n    <tr>\n      <th>872</th>\n      <td>873</td>\n      <td>0</td>\n      <td>33.0</td>\n      <td>0</td>\n      <td>5.0000</td>\n      <td>0</td>\n      <td>1</td>\n      <td>1</td>\n    </tr>\n    <tr>\n      <th>879</th>\n      <td>880</td>\n      <td>1</td>\n      <td>56.0</td>\n      <td>0</td>\n      <td>83.1583</td>\n      <td>1</td>\n      <td>0</td>\n      <td>0</td>\n    </tr>\n    <tr>\n      <th>887</th>\n      <td>888</td>\n      <td>1</td>\n      <td>19.0</td>\n      <td>0</td>\n      <td>30.0000</td>\n      <td>0</td>\n      <td>0</td>\n      <td>1</td>\n    </tr>\n    <tr>\n      <th>889</th>\n      <td>890</td>\n      <td>1</td>\n      <td>26.0</td>\n      <td>0</td>\n      <td>30.0000</td>\n      <td>0</td>\n      <td>1</td>\n      <td>0</td>\n    </tr>\n  </tbody>\n</table>\n<p>183 rows × 8 columns</p>\n</div>"
     },
     "metadata": {},
     "execution_count": 50
    }
   ],
   "source": [
    "modelDataset = train[[\"PassengerId\", \"Survived\", \"Age\", 'SibSp', \"Fare\", \"FareGroup\", \"Sex\", \"Embarked\"]]\n",
    "modelDataset"
   ]
  },
  {
   "cell_type": "code",
   "execution_count": null,
   "metadata": {},
   "outputs": [],
   "source": []
  }
 ],
 "metadata": {
  "kernelspec": {
   "display_name": "Python 3",
   "language": "python",
   "name": "python3"
  },
  "language_info": {
   "codemirror_mode": {
    "name": "ipython",
    "version": 3
   },
   "file_extension": ".py",
   "mimetype": "text/x-python",
   "name": "python",
   "nbconvert_exporter": "python",
   "pygments_lexer": "ipython3",
   "version": "3.8.6-final"
  }
 },
 "nbformat": 4,
 "nbformat_minor": 2
}